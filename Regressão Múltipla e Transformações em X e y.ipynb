{
 "cells": [
  {
   "cell_type": "markdown",
   "metadata": {},
   "source": [
    "# Regressão Múltipla / Transformações em X e y"
   ]
  },
  {
   "cell_type": "code",
   "execution_count": 1,
   "metadata": {},
   "outputs": [],
   "source": [
    "import statsmodels.formula.api as smf\n",
    "from seaborn import load_dataset\n",
    "import matplotlib.pyplot as plt\n",
    "import statsmodels.api as sm\n",
    "import seaborn as sns\n",
    "import pandas as pd\n",
    "import numpy as np\n",
    "import patsy"
   ]
  },
  {
   "cell_type": "markdown",
   "metadata": {},
   "source": [
    "Carregue os pacotes necessários e a base de gorjetas.\n",
    "\n",
    "### I. Modelo no valor da gorjeta\n",
    "\n",
    "1. Crie a matriz de design (e a matriz y) utilizando o Patsy, para um modelo em ```tip```, explicada por ```sex, smoker, diner e net_bill```.  \n",
    "2. Remova as variáveis não significantes.  \n",
    "3. observe o gráfico de resíduos em função de ```net_bill```  \n",
    "4. teste transformar ```net_bill``` no log e um polinômio. Escolha o melhor modelo."
   ]
  },
  {
   "cell_type": "code",
   "execution_count": 2,
   "metadata": {},
   "outputs": [],
   "source": [
    "\n",
    "tips = load_dataset(\"tips\")\n",
    "\n",
    "tips['tip_pct'] = tips['tip'] / (tips['total_bill'] - tips['tip'])\n",
    "\n",
    "tips['net_bill'] = tips['total_bill'] - tips['tip']\n"
   ]
  },
  {
   "cell_type": "code",
   "execution_count": 3,
   "metadata": {},
   "outputs": [],
   "source": [
    "# item 1\n",
    "\n",
    "y, X = patsy.dmatrices('tip ~ sex + smoker + C(time) + net_bill', tips[:3])\n"
   ]
  },
  {
   "cell_type": "code",
   "execution_count": 4,
   "metadata": {},
   "outputs": [
    {
     "data": {
      "text/plain": [
       "DesignMatrix with shape (3, 5)\n",
       "  Intercept  sex[T.Female]  smoker[T.No]  C(time)[T.Dinner]  net_bill\n",
       "          1              1             1                  1     15.98\n",
       "          1              0             1                  1      8.68\n",
       "          1              0             1                  1     17.51\n",
       "  Terms:\n",
       "    'Intercept' (column 0)\n",
       "    'sex' (column 1)\n",
       "    'smoker' (column 2)\n",
       "    'C(time)' (column 3)\n",
       "    'net_bill' (column 4)"
      ]
     },
     "execution_count": 4,
     "metadata": {},
     "output_type": "execute_result"
    }
   ],
   "source": [
    "# Matriz de Design\n",
    "\n",
    "X\n"
   ]
  },
  {
   "cell_type": "code",
   "execution_count": 5,
   "metadata": {},
   "outputs": [
    {
     "data": {
      "text/plain": [
       "DesignMatrix with shape (3, 1)\n",
       "   tip\n",
       "  1.01\n",
       "  1.66\n",
       "  3.50\n",
       "  Terms:\n",
       "    'tip' (column 0)"
      ]
     },
     "execution_count": 5,
     "metadata": {},
     "output_type": "execute_result"
    }
   ],
   "source": [
    "# Matriz y\n",
    "\n",
    "y\n"
   ]
  },
  {
   "cell_type": "code",
   "execution_count": 6,
   "metadata": {},
   "outputs": [
    {
     "data": {
      "text/html": [
       "<table class=\"simpletable\">\n",
       "<caption>OLS Regression Results</caption>\n",
       "<tr>\n",
       "  <th>Dep. Variable:</th>           <td>tip</td>       <th>  R-squared:         </th> <td>   0.335</td>\n",
       "</tr>\n",
       "<tr>\n",
       "  <th>Model:</th>                   <td>OLS</td>       <th>  Adj. R-squared:    </th> <td>   0.324</td>\n",
       "</tr>\n",
       "<tr>\n",
       "  <th>Method:</th>             <td>Least Squares</td>  <th>  F-statistic:       </th> <td>   30.13</td>\n",
       "</tr>\n",
       "<tr>\n",
       "  <th>Date:</th>             <td>Mon, 24 Jan 2022</td> <th>  Prob (F-statistic):</th> <td>2.64e-20</td>\n",
       "</tr>\n",
       "<tr>\n",
       "  <th>Time:</th>                 <td>08:22:06</td>     <th>  Log-Likelihood:    </th> <td> -375.13</td>\n",
       "</tr>\n",
       "<tr>\n",
       "  <th>No. Observations:</th>      <td>   244</td>      <th>  AIC:               </th> <td>   760.3</td>\n",
       "</tr>\n",
       "<tr>\n",
       "  <th>Df Residuals:</th>          <td>   239</td>      <th>  BIC:               </th> <td>   777.8</td>\n",
       "</tr>\n",
       "<tr>\n",
       "  <th>Df Model:</th>              <td>     4</td>      <th>                     </th>     <td> </td>   \n",
       "</tr>\n",
       "<tr>\n",
       "  <th>Covariance Type:</th>      <td>nonrobust</td>    <th>                     </th>     <td> </td>   \n",
       "</tr>\n",
       "</table>\n",
       "<table class=\"simpletable\">\n",
       "<tr>\n",
       "          <td></td>             <th>coef</th>     <th>std err</th>      <th>t</th>      <th>P>|t|</th>  <th>[0.025</th>    <th>0.975]</th>  \n",
       "</tr>\n",
       "<tr>\n",
       "  <th>Intercept</th>         <td>    1.1999</td> <td>    0.242</td> <td>    4.952</td> <td> 0.000</td> <td>    0.723</td> <td>    1.677</td>\n",
       "</tr>\n",
       "<tr>\n",
       "  <th>sex[T.Female]</th>     <td>   -0.0034</td> <td>    0.156</td> <td>   -0.022</td> <td> 0.982</td> <td>   -0.311</td> <td>    0.305</td>\n",
       "</tr>\n",
       "<tr>\n",
       "  <th>smoker[T.No]</th>      <td>    0.1405</td> <td>    0.151</td> <td>    0.932</td> <td> 0.352</td> <td>   -0.156</td> <td>    0.437</td>\n",
       "</tr>\n",
       "<tr>\n",
       "  <th>C(time)[T.Dinner]</th> <td>    0.0584</td> <td>    0.168</td> <td>    0.347</td> <td> 0.729</td> <td>   -0.273</td> <td>    0.390</td>\n",
       "</tr>\n",
       "<tr>\n",
       "  <th>net_bill</th>          <td>    0.0995</td> <td>    0.009</td> <td>   10.662</td> <td> 0.000</td> <td>    0.081</td> <td>    0.118</td>\n",
       "</tr>\n",
       "</table>\n",
       "<table class=\"simpletable\">\n",
       "<tr>\n",
       "  <th>Omnibus:</th>       <td>36.537</td> <th>  Durbin-Watson:     </th> <td>   2.121</td>\n",
       "</tr>\n",
       "<tr>\n",
       "  <th>Prob(Omnibus):</th> <td> 0.000</td> <th>  Jarque-Bera (JB):  </th> <td>  65.875</td>\n",
       "</tr>\n",
       "<tr>\n",
       "  <th>Skew:</th>          <td> 0.800</td> <th>  Prob(JB):          </th> <td>4.96e-15</td>\n",
       "</tr>\n",
       "<tr>\n",
       "  <th>Kurtosis:</th>      <td> 4.980</td> <th>  Cond. No.          </th> <td>    71.2</td>\n",
       "</tr>\n",
       "</table><br/><br/>Notes:<br/>[1] Standard Errors assume that the covariance matrix of the errors is correctly specified."
      ],
      "text/plain": [
       "<class 'statsmodels.iolib.summary.Summary'>\n",
       "\"\"\"\n",
       "                            OLS Regression Results                            \n",
       "==============================================================================\n",
       "Dep. Variable:                    tip   R-squared:                       0.335\n",
       "Model:                            OLS   Adj. R-squared:                  0.324\n",
       "Method:                 Least Squares   F-statistic:                     30.13\n",
       "Date:                Mon, 24 Jan 2022   Prob (F-statistic):           2.64e-20\n",
       "Time:                        08:22:06   Log-Likelihood:                -375.13\n",
       "No. Observations:                 244   AIC:                             760.3\n",
       "Df Residuals:                     239   BIC:                             777.8\n",
       "Df Model:                           4                                         \n",
       "Covariance Type:            nonrobust                                         \n",
       "=====================================================================================\n",
       "                        coef    std err          t      P>|t|      [0.025      0.975]\n",
       "-------------------------------------------------------------------------------------\n",
       "Intercept             1.1999      0.242      4.952      0.000       0.723       1.677\n",
       "sex[T.Female]        -0.0034      0.156     -0.022      0.982      -0.311       0.305\n",
       "smoker[T.No]          0.1405      0.151      0.932      0.352      -0.156       0.437\n",
       "C(time)[T.Dinner]     0.0584      0.168      0.347      0.729      -0.273       0.390\n",
       "net_bill              0.0995      0.009     10.662      0.000       0.081       0.118\n",
       "==============================================================================\n",
       "Omnibus:                       36.537   Durbin-Watson:                   2.121\n",
       "Prob(Omnibus):                  0.000   Jarque-Bera (JB):               65.875\n",
       "Skew:                           0.800   Prob(JB):                     4.96e-15\n",
       "Kurtosis:                       4.980   Cond. No.                         71.2\n",
       "==============================================================================\n",
       "\n",
       "Notes:\n",
       "[1] Standard Errors assume that the covariance matrix of the errors is correctly specified.\n",
       "\"\"\""
      ]
     },
     "execution_count": 6,
     "metadata": {},
     "output_type": "execute_result"
    }
   ],
   "source": [
    "# Usando a Regressão Inicial para os próximos itens\n",
    " \n",
    "reg_tips = smf.ols('tip ~ sex + smoker + C(time) + net_bill', data = tips).fit()\n",
    "\n",
    "tips['res_log'] = reg_tips.resid\n",
    "\n",
    "reg_tips.summary() \n"
   ]
  },
  {
   "cell_type": "code",
   "execution_count": 7,
   "metadata": {},
   "outputs": [
    {
     "data": {
      "text/html": [
       "<table class=\"simpletable\">\n",
       "<caption>OLS Regression Results</caption>\n",
       "<tr>\n",
       "  <th>Dep. Variable:</th>           <td>tip</td>       <th>  R-squared:         </th> <td>   0.333</td>\n",
       "</tr>\n",
       "<tr>\n",
       "  <th>Model:</th>                   <td>OLS</td>       <th>  Adj. R-squared:    </th> <td>   0.330</td>\n",
       "</tr>\n",
       "<tr>\n",
       "  <th>Method:</th>             <td>Least Squares</td>  <th>  F-statistic:       </th> <td>   120.6</td>\n",
       "</tr>\n",
       "<tr>\n",
       "  <th>Date:</th>             <td>Mon, 24 Jan 2022</td> <th>  Prob (F-statistic):</th> <td>5.02e-23</td>\n",
       "</tr>\n",
       "<tr>\n",
       "  <th>Time:</th>                 <td>08:22:10</td>     <th>  Log-Likelihood:    </th> <td> -375.63</td>\n",
       "</tr>\n",
       "<tr>\n",
       "  <th>No. Observations:</th>      <td>   244</td>      <th>  AIC:               </th> <td>   755.3</td>\n",
       "</tr>\n",
       "<tr>\n",
       "  <th>Df Residuals:</th>          <td>   242</td>      <th>  BIC:               </th> <td>   762.3</td>\n",
       "</tr>\n",
       "<tr>\n",
       "  <th>Df Model:</th>              <td>     1</td>      <th>                     </th>     <td> </td>   \n",
       "</tr>\n",
       "<tr>\n",
       "  <th>Covariance Type:</th>      <td>nonrobust</td>    <th>                     </th>     <td> </td>   \n",
       "</tr>\n",
       "</table>\n",
       "<table class=\"simpletable\">\n",
       "<tr>\n",
       "      <td></td>         <th>coef</th>     <th>std err</th>      <th>t</th>      <th>P>|t|</th>  <th>[0.025</th>    <th>0.975]</th>  \n",
       "</tr>\n",
       "<tr>\n",
       "  <th>Intercept</th> <td>    1.3307</td> <td>    0.168</td> <td>    7.907</td> <td> 0.000</td> <td>    0.999</td> <td>    1.662</td>\n",
       "</tr>\n",
       "<tr>\n",
       "  <th>net_bill</th>  <td>    0.0993</td> <td>    0.009</td> <td>   10.980</td> <td> 0.000</td> <td>    0.082</td> <td>    0.117</td>\n",
       "</tr>\n",
       "</table>\n",
       "<table class=\"simpletable\">\n",
       "<tr>\n",
       "  <th>Omnibus:</th>       <td>33.873</td> <th>  Durbin-Watson:     </th> <td>   2.123</td>\n",
       "</tr>\n",
       "<tr>\n",
       "  <th>Prob(Omnibus):</th> <td> 0.000</td> <th>  Jarque-Bera (JB):  </th> <td>  59.942</td>\n",
       "</tr>\n",
       "<tr>\n",
       "  <th>Skew:</th>          <td> 0.754</td> <th>  Prob(JB):          </th> <td>9.63e-14</td>\n",
       "</tr>\n",
       "<tr>\n",
       "  <th>Kurtosis:</th>      <td> 4.903</td> <th>  Cond. No.          </th> <td>    43.3</td>\n",
       "</tr>\n",
       "</table><br/><br/>Notes:<br/>[1] Standard Errors assume that the covariance matrix of the errors is correctly specified."
      ],
      "text/plain": [
       "<class 'statsmodels.iolib.summary.Summary'>\n",
       "\"\"\"\n",
       "                            OLS Regression Results                            \n",
       "==============================================================================\n",
       "Dep. Variable:                    tip   R-squared:                       0.333\n",
       "Model:                            OLS   Adj. R-squared:                  0.330\n",
       "Method:                 Least Squares   F-statistic:                     120.6\n",
       "Date:                Mon, 24 Jan 2022   Prob (F-statistic):           5.02e-23\n",
       "Time:                        08:22:10   Log-Likelihood:                -375.63\n",
       "No. Observations:                 244   AIC:                             755.3\n",
       "Df Residuals:                     242   BIC:                             762.3\n",
       "Df Model:                           1                                         \n",
       "Covariance Type:            nonrobust                                         \n",
       "==============================================================================\n",
       "                 coef    std err          t      P>|t|      [0.025      0.975]\n",
       "------------------------------------------------------------------------------\n",
       "Intercept      1.3307      0.168      7.907      0.000       0.999       1.662\n",
       "net_bill       0.0993      0.009     10.980      0.000       0.082       0.117\n",
       "==============================================================================\n",
       "Omnibus:                       33.873   Durbin-Watson:                   2.123\n",
       "Prob(Omnibus):                  0.000   Jarque-Bera (JB):               59.942\n",
       "Skew:                           0.754   Prob(JB):                     9.63e-14\n",
       "Kurtosis:                       4.903   Cond. No.                         43.3\n",
       "==============================================================================\n",
       "\n",
       "Notes:\n",
       "[1] Standard Errors assume that the covariance matrix of the errors is correctly specified.\n",
       "\"\"\""
      ]
     },
     "execution_count": 7,
     "metadata": {},
     "output_type": "execute_result"
    },
    {
     "data": {
      "image/png": "[encoded data removed]",
      "text/plain": [
       "<Figure size 432x288 with 1 Axes>"
      ]
     },
     "metadata": {
      "needs_background": "light"
     },
     "output_type": "display_data"
    }
   ],
   "source": [
    "# item (2 e 3)\n",
    "\n",
    "# Tirando as variaveis: sex[T.Female], smoker[T.No] e C(time)[T.Dinner] e construindo o Gráfico de Resíduo em Função do net_bill\n",
    "\n",
    "reg_tips = smf.ols('tip ~ net_bill', data = tips).fit()\n",
    "\n",
    "tips['res_log'] = reg_tips.resid\n",
    "\n",
    "sns.scatterplot(x = 'net_bill', y = 'res_log', data = tips)\n",
    "\n",
    "plt.axhline(y=0, color='r', linestyle='--')\n",
    "\n",
    "reg_tips.summary()\n"
   ]
  },
  {
   "cell_type": "code",
   "execution_count": 8,
   "metadata": {},
   "outputs": [
    {
     "data": {
      "text/html": [
       "<table class=\"simpletable\">\n",
       "<caption>OLS Regression Results</caption>\n",
       "<tr>\n",
       "  <th>Dep. Variable:</th>           <td>tip</td>       <th>  R-squared:         </th> <td>   0.294</td>\n",
       "</tr>\n",
       "<tr>\n",
       "  <th>Model:</th>                   <td>OLS</td>       <th>  Adj. R-squared:    </th> <td>   0.292</td>\n",
       "</tr>\n",
       "<tr>\n",
       "  <th>Method:</th>             <td>Least Squares</td>  <th>  F-statistic:       </th> <td>   101.0</td>\n",
       "</tr>\n",
       "<tr>\n",
       "  <th>Date:</th>             <td>Mon, 24 Jan 2022</td> <th>  Prob (F-statistic):</th> <td>4.40e-20</td>\n",
       "</tr>\n",
       "<tr>\n",
       "  <th>Time:</th>                 <td>08:22:24</td>     <th>  Log-Likelihood:    </th> <td> -382.40</td>\n",
       "</tr>\n",
       "<tr>\n",
       "  <th>No. Observations:</th>      <td>   244</td>      <th>  AIC:               </th> <td>   768.8</td>\n",
       "</tr>\n",
       "<tr>\n",
       "  <th>Df Residuals:</th>          <td>   242</td>      <th>  BIC:               </th> <td>   775.8</td>\n",
       "</tr>\n",
       "<tr>\n",
       "  <th>Df Model:</th>              <td>     1</td>      <th>                     </th>     <td> </td>   \n",
       "</tr>\n",
       "<tr>\n",
       "  <th>Covariance Type:</th>      <td>nonrobust</td>    <th>                     </th>     <td> </td>   \n",
       "</tr>\n",
       "</table>\n",
       "<table class=\"simpletable\">\n",
       "<tr>\n",
       "          <td></td>            <th>coef</th>     <th>std err</th>      <th>t</th>      <th>P>|t|</th>  <th>[0.025</th>    <th>0.975]</th>  \n",
       "</tr>\n",
       "<tr>\n",
       "  <th>Intercept</th>        <td>   -1.2575</td> <td>    0.430</td> <td>   -2.924</td> <td> 0.004</td> <td>   -2.104</td> <td>   -0.410</td>\n",
       "</tr>\n",
       "<tr>\n",
       "  <th>np.log(net_bill)</th> <td>    1.5695</td> <td>    0.156</td> <td>   10.049</td> <td> 0.000</td> <td>    1.262</td> <td>    1.877</td>\n",
       "</tr>\n",
       "</table>\n",
       "<table class=\"simpletable\">\n",
       "<tr>\n",
       "  <th>Omnibus:</th>       <td>73.945</td> <th>  Durbin-Watson:     </th> <td>   2.045</td>\n",
       "</tr>\n",
       "<tr>\n",
       "  <th>Prob(Omnibus):</th> <td> 0.000</td> <th>  Jarque-Bera (JB):  </th> <td> 221.148</td>\n",
       "</tr>\n",
       "<tr>\n",
       "  <th>Skew:</th>          <td> 1.303</td> <th>  Prob(JB):          </th> <td>9.51e-49</td>\n",
       "</tr>\n",
       "<tr>\n",
       "  <th>Kurtosis:</th>      <td> 6.868</td> <th>  Cond. No.          </th> <td>    17.9</td>\n",
       "</tr>\n",
       "</table><br/><br/>Notes:<br/>[1] Standard Errors assume that the covariance matrix of the errors is correctly specified."
      ],
      "text/plain": [
       "<class 'statsmodels.iolib.summary.Summary'>\n",
       "\"\"\"\n",
       "                            OLS Regression Results                            \n",
       "==============================================================================\n",
       "Dep. Variable:                    tip   R-squared:                       0.294\n",
       "Model:                            OLS   Adj. R-squared:                  0.292\n",
       "Method:                 Least Squares   F-statistic:                     101.0\n",
       "Date:                Mon, 24 Jan 2022   Prob (F-statistic):           4.40e-20\n",
       "Time:                        08:22:24   Log-Likelihood:                -382.40\n",
       "No. Observations:                 244   AIC:                             768.8\n",
       "Df Residuals:                     242   BIC:                             775.8\n",
       "Df Model:                           1                                         \n",
       "Covariance Type:            nonrobust                                         \n",
       "====================================================================================\n",
       "                       coef    std err          t      P>|t|      [0.025      0.975]\n",
       "------------------------------------------------------------------------------------\n",
       "Intercept           -1.2575      0.430     -2.924      0.004      -2.104      -0.410\n",
       "np.log(net_bill)     1.5695      0.156     10.049      0.000       1.262       1.877\n",
       "==============================================================================\n",
       "Omnibus:                       73.945   Durbin-Watson:                   2.045\n",
       "Prob(Omnibus):                  0.000   Jarque-Bera (JB):              221.148\n",
       "Skew:                           1.303   Prob(JB):                     9.51e-49\n",
       "Kurtosis:                       6.868   Cond. No.                         17.9\n",
       "==============================================================================\n",
       "\n",
       "Notes:\n",
       "[1] Standard Errors assume that the covariance matrix of the errors is correctly specified.\n",
       "\"\"\""
      ]
     },
     "execution_count": 8,
     "metadata": {},
     "output_type": "execute_result"
    }
   ],
   "source": [
    "# item 4\n",
    "\n",
    "# testando transformar net_bill em log\n",
    "\n",
    "# 1(modelo)\n",
    "\n",
    "reg_tips = smf.ols('tip ~ np.log(net_bill)', data = tips).fit()\n",
    "\n",
    "tips['res_log'] = reg_tips.resid\n",
    "\n",
    "reg_tips.summary()\n"
   ]
  },
  {
   "cell_type": "code",
   "execution_count": 9,
   "metadata": {},
   "outputs": [
    {
     "data": {
      "text/html": [
       "<table class=\"simpletable\">\n",
       "<caption>OLS Regression Results</caption>\n",
       "<tr>\n",
       "  <th>Dep. Variable:</th>           <td>tip</td>       <th>  R-squared:         </th> <td>   0.301</td>\n",
       "</tr>\n",
       "<tr>\n",
       "  <th>Model:</th>                   <td>OLS</td>       <th>  Adj. R-squared:    </th> <td>   0.298</td>\n",
       "</tr>\n",
       "<tr>\n",
       "  <th>Method:</th>             <td>Least Squares</td>  <th>  F-statistic:       </th> <td>   104.1</td>\n",
       "</tr>\n",
       "<tr>\n",
       "  <th>Date:</th>             <td>Mon, 24 Jan 2022</td> <th>  Prob (F-statistic):</th> <td>1.47e-20</td>\n",
       "</tr>\n",
       "<tr>\n",
       "  <th>Time:</th>                 <td>08:22:27</td>     <th>  Log-Likelihood:    </th> <td> -381.31</td>\n",
       "</tr>\n",
       "<tr>\n",
       "  <th>No. Observations:</th>      <td>   244</td>      <th>  AIC:               </th> <td>   766.6</td>\n",
       "</tr>\n",
       "<tr>\n",
       "  <th>Df Residuals:</th>          <td>   242</td>      <th>  BIC:               </th> <td>   773.6</td>\n",
       "</tr>\n",
       "<tr>\n",
       "  <th>Df Model:</th>              <td>     1</td>      <th>                     </th>     <td> </td>   \n",
       "</tr>\n",
       "<tr>\n",
       "  <th>Covariance Type:</th>      <td>nonrobust</td>    <th>                     </th>     <td> </td>   \n",
       "</tr>\n",
       "</table>\n",
       "<table class=\"simpletable\">\n",
       "<tr>\n",
       "            <td></td>               <th>coef</th>     <th>std err</th>      <th>t</th>      <th>P>|t|</th>  <th>[0.025</th>    <th>0.975]</th>  \n",
       "</tr>\n",
       "<tr>\n",
       "  <th>Intercept</th>             <td>    2.2566</td> <td>    0.104</td> <td>   21.720</td> <td> 0.000</td> <td>    2.052</td> <td>    2.461</td>\n",
       "</tr>\n",
       "<tr>\n",
       "  <th>np.power(net_bill, 2)</th> <td>    0.0021</td> <td>    0.000</td> <td>   10.202</td> <td> 0.000</td> <td>    0.002</td> <td>    0.003</td>\n",
       "</tr>\n",
       "</table>\n",
       "<table class=\"simpletable\">\n",
       "<tr>\n",
       "  <th>Omnibus:</th>       <td>22.756</td> <th>  Durbin-Watson:     </th> <td>   2.184</td>\n",
       "</tr>\n",
       "<tr>\n",
       "  <th>Prob(Omnibus):</th> <td> 0.000</td> <th>  Jarque-Bera (JB):  </th> <td>  31.466</td>\n",
       "</tr>\n",
       "<tr>\n",
       "  <th>Skew:</th>          <td> 0.620</td> <th>  Prob(JB):          </th> <td>1.47e-07</td>\n",
       "</tr>\n",
       "<tr>\n",
       "  <th>Kurtosis:</th>      <td> 4.248</td> <th>  Cond. No.          </th> <td>    692.</td>\n",
       "</tr>\n",
       "</table><br/><br/>Notes:<br/>[1] Standard Errors assume that the covariance matrix of the errors is correctly specified."
      ],
      "text/plain": [
       "<class 'statsmodels.iolib.summary.Summary'>\n",
       "\"\"\"\n",
       "                            OLS Regression Results                            \n",
       "==============================================================================\n",
       "Dep. Variable:                    tip   R-squared:                       0.301\n",
       "Model:                            OLS   Adj. R-squared:                  0.298\n",
       "Method:                 Least Squares   F-statistic:                     104.1\n",
       "Date:                Mon, 24 Jan 2022   Prob (F-statistic):           1.47e-20\n",
       "Time:                        08:22:27   Log-Likelihood:                -381.31\n",
       "No. Observations:                 244   AIC:                             766.6\n",
       "Df Residuals:                     242   BIC:                             773.6\n",
       "Df Model:                           1                                         \n",
       "Covariance Type:            nonrobust                                         \n",
       "=========================================================================================\n",
       "                            coef    std err          t      P>|t|      [0.025      0.975]\n",
       "-----------------------------------------------------------------------------------------\n",
       "Intercept                 2.2566      0.104     21.720      0.000       2.052       2.461\n",
       "np.power(net_bill, 2)     0.0021      0.000     10.202      0.000       0.002       0.003\n",
       "==============================================================================\n",
       "Omnibus:                       22.756   Durbin-Watson:                   2.184\n",
       "Prob(Omnibus):                  0.000   Jarque-Bera (JB):               31.466\n",
       "Skew:                           0.620   Prob(JB):                     1.47e-07\n",
       "Kurtosis:                       4.248   Cond. No.                         692.\n",
       "==============================================================================\n",
       "\n",
       "Notes:\n",
       "[1] Standard Errors assume that the covariance matrix of the errors is correctly specified.\n",
       "\"\"\""
      ]
     },
     "execution_count": 9,
     "metadata": {},
     "output_type": "execute_result"
    }
   ],
   "source": [
    "# testando transformar net_bill em polinômio do segundo grau\n",
    "\n",
    "# 2(modelo)\n",
    "\n",
    "reg_tips = smf.ols('tip ~ np.power(net_bill,2)', data = tips).fit()\n",
    "\n",
    "tips['res_log'] = reg_tips.resid\n",
    "\n",
    "reg_tips.summary()\n"
   ]
  },
  {
   "cell_type": "code",
   "execution_count": null,
   "metadata": {},
   "outputs": [],
   "source": [
    "\n",
    "# 1(modelo) --> A transformações logaritmica apresentou: R-squared = 0.294\n",
    "\n",
    "# 2(modelo) --> A transformações quadrática(polinomio do segundo grau) apresentou: R-squared = 0.301\n",
    "\n",
    "# Melhor modelo: 2(modelo)\n"
   ]
  },
  {
   "cell_type": "markdown",
   "metadata": {},
   "source": [
    "### II. Modelo no valor do percentual da gorjeta\n",
    "\n",
    "1. Crie a matriz de design (e a matriz y) utilizando o Patsy, para um modelo no log de ```tip```, explicado por ```sex, smoker, diner e net_bill```.\n",
    "2. Remova as variáveis não significantes.\n",
    "3. Observe o gráfico de resíduos em função de ```net_bill```\n",
    "4. Teste transformar ```net_bill``` no log e um polinômio. Escolha o melhor modelo.\n",
    "5. Do modelo final deste item, calcule o $R^2$ na escala de ```tip``` (sem o log). Compare com o modelo do item 1. Qual tem melhor coeficiente de determinação?"
   ]
  },
  {
   "cell_type": "code",
   "execution_count": 10,
   "metadata": {},
   "outputs": [],
   "source": [
    "# item 1\n",
    "\n",
    "y, X = patsy.dmatrices('np.log(tip) ~ sex + smoker + C(time) + net_bill', tips[:3])\n"
   ]
  },
  {
   "cell_type": "code",
   "execution_count": 11,
   "metadata": {},
   "outputs": [
    {
     "data": {
      "text/plain": [
       "DesignMatrix with shape (3, 5)\n",
       "  Intercept  sex[T.Female]  smoker[T.No]  C(time)[T.Dinner]  net_bill\n",
       "          1              1             1                  1     15.98\n",
       "          1              0             1                  1      8.68\n",
       "          1              0             1                  1     17.51\n",
       "  Terms:\n",
       "    'Intercept' (column 0)\n",
       "    'sex' (column 1)\n",
       "    'smoker' (column 2)\n",
       "    'C(time)' (column 3)\n",
       "    'net_bill' (column 4)"
      ]
     },
     "execution_count": 11,
     "metadata": {},
     "output_type": "execute_result"
    }
   ],
   "source": [
    "\n",
    "X\n"
   ]
  },
  {
   "cell_type": "code",
   "execution_count": 12,
   "metadata": {},
   "outputs": [
    {
     "data": {
      "text/plain": [
       "DesignMatrix with shape (3, 1)\n",
       "  np.log(tip)\n",
       "      0.00995\n",
       "      0.50682\n",
       "      1.25276\n",
       "  Terms:\n",
       "    'np.log(tip)' (column 0)"
      ]
     },
     "execution_count": 12,
     "metadata": {},
     "output_type": "execute_result"
    }
   ],
   "source": [
    "\n",
    "y\n"
   ]
  },
  {
   "cell_type": "code",
   "execution_count": 13,
   "metadata": {},
   "outputs": [
    {
     "data": {
      "text/html": [
       "<table class=\"simpletable\">\n",
       "<caption>OLS Regression Results</caption>\n",
       "<tr>\n",
       "  <th>Dep. Variable:</th>       <td>np.log(tip)</td>   <th>  R-squared:         </th> <td>   0.313</td>\n",
       "</tr>\n",
       "<tr>\n",
       "  <th>Model:</th>                   <td>OLS</td>       <th>  Adj. R-squared:    </th> <td>   0.302</td>\n",
       "</tr>\n",
       "<tr>\n",
       "  <th>Method:</th>             <td>Least Squares</td>  <th>  F-statistic:       </th> <td>   27.25</td>\n",
       "</tr>\n",
       "<tr>\n",
       "  <th>Date:</th>             <td>Mon, 24 Jan 2022</td> <th>  Prob (F-statistic):</th> <td>1.21e-18</td>\n",
       "</tr>\n",
       "<tr>\n",
       "  <th>Time:</th>                 <td>08:22:42</td>     <th>  Log-Likelihood:    </th> <td> -97.419</td>\n",
       "</tr>\n",
       "<tr>\n",
       "  <th>No. Observations:</th>      <td>   244</td>      <th>  AIC:               </th> <td>   204.8</td>\n",
       "</tr>\n",
       "<tr>\n",
       "  <th>Df Residuals:</th>          <td>   239</td>      <th>  BIC:               </th> <td>   222.3</td>\n",
       "</tr>\n",
       "<tr>\n",
       "  <th>Df Model:</th>              <td>     4</td>      <th>                     </th>     <td> </td>   \n",
       "</tr>\n",
       "<tr>\n",
       "  <th>Covariance Type:</th>      <td>nonrobust</td>    <th>                     </th>     <td> </td>   \n",
       "</tr>\n",
       "</table>\n",
       "<table class=\"simpletable\">\n",
       "<tr>\n",
       "          <td></td>             <th>coef</th>     <th>std err</th>      <th>t</th>      <th>P>|t|</th>  <th>[0.025</th>    <th>0.975]</th>  \n",
       "</tr>\n",
       "<tr>\n",
       "  <th>Intercept</th>         <td>    0.4504</td> <td>    0.078</td> <td>    5.801</td> <td> 0.000</td> <td>    0.297</td> <td>    0.603</td>\n",
       "</tr>\n",
       "<tr>\n",
       "  <th>sex[T.Female]</th>     <td>    0.0048</td> <td>    0.050</td> <td>    0.097</td> <td> 0.923</td> <td>   -0.094</td> <td>    0.104</td>\n",
       "</tr>\n",
       "<tr>\n",
       "  <th>smoker[T.No]</th>      <td>    0.0436</td> <td>    0.048</td> <td>    0.903</td> <td> 0.367</td> <td>   -0.052</td> <td>    0.139</td>\n",
       "</tr>\n",
       "<tr>\n",
       "  <th>C(time)[T.Dinner]</th> <td>    0.0191</td> <td>    0.054</td> <td>    0.355</td> <td> 0.723</td> <td>   -0.087</td> <td>    0.125</td>\n",
       "</tr>\n",
       "<tr>\n",
       "  <th>net_bill</th>          <td>    0.0304</td> <td>    0.003</td> <td>   10.152</td> <td> 0.000</td> <td>    0.024</td> <td>    0.036</td>\n",
       "</tr>\n",
       "</table>\n",
       "<table class=\"simpletable\">\n",
       "<tr>\n",
       "  <th>Omnibus:</th>       <td> 2.577</td> <th>  Durbin-Watson:     </th> <td>   2.044</td>\n",
       "</tr>\n",
       "<tr>\n",
       "  <th>Prob(Omnibus):</th> <td> 0.276</td> <th>  Jarque-Bera (JB):  </th> <td>   2.235</td>\n",
       "</tr>\n",
       "<tr>\n",
       "  <th>Skew:</th>          <td>-0.181</td> <th>  Prob(JB):          </th> <td>   0.327</td>\n",
       "</tr>\n",
       "<tr>\n",
       "  <th>Kurtosis:</th>      <td> 3.298</td> <th>  Cond. No.          </th> <td>    71.2</td>\n",
       "</tr>\n",
       "</table><br/><br/>Notes:<br/>[1] Standard Errors assume that the covariance matrix of the errors is correctly specified."
      ],
      "text/plain": [
       "<class 'statsmodels.iolib.summary.Summary'>\n",
       "\"\"\"\n",
       "                            OLS Regression Results                            \n",
       "==============================================================================\n",
       "Dep. Variable:            np.log(tip)   R-squared:                       0.313\n",
       "Model:                            OLS   Adj. R-squared:                  0.302\n",
       "Method:                 Least Squares   F-statistic:                     27.25\n",
       "Date:                Mon, 24 Jan 2022   Prob (F-statistic):           1.21e-18\n",
       "Time:                        08:22:42   Log-Likelihood:                -97.419\n",
       "No. Observations:                 244   AIC:                             204.8\n",
       "Df Residuals:                     239   BIC:                             222.3\n",
       "Df Model:                           4                                         \n",
       "Covariance Type:            nonrobust                                         \n",
       "=====================================================================================\n",
       "                        coef    std err          t      P>|t|      [0.025      0.975]\n",
       "-------------------------------------------------------------------------------------\n",
       "Intercept             0.4504      0.078      5.801      0.000       0.297       0.603\n",
       "sex[T.Female]         0.0048      0.050      0.097      0.923      -0.094       0.104\n",
       "smoker[T.No]          0.0436      0.048      0.903      0.367      -0.052       0.139\n",
       "C(time)[T.Dinner]     0.0191      0.054      0.355      0.723      -0.087       0.125\n",
       "net_bill              0.0304      0.003     10.152      0.000       0.024       0.036\n",
       "==============================================================================\n",
       "Omnibus:                        2.577   Durbin-Watson:                   2.044\n",
       "Prob(Omnibus):                  0.276   Jarque-Bera (JB):                2.235\n",
       "Skew:                          -0.181   Prob(JB):                        0.327\n",
       "Kurtosis:                       3.298   Cond. No.                         71.2\n",
       "==============================================================================\n",
       "\n",
       "Notes:\n",
       "[1] Standard Errors assume that the covariance matrix of the errors is correctly specified.\n",
       "\"\"\""
      ]
     },
     "execution_count": 13,
     "metadata": {},
     "output_type": "execute_result"
    }
   ],
   "source": [
    "# Regressão Inicial \n",
    "\n",
    "reg_tips = smf.ols('np.log(tip) ~ sex + smoker + C(time) + net_bill', data = tips).fit()\n",
    "\n",
    "tips['res_log'] = reg_tips.resid\n",
    "\n",
    "reg_tips.summary() \n"
   ]
  },
  {
   "cell_type": "code",
   "execution_count": 14,
   "metadata": {},
   "outputs": [
    {
     "data": {
      "text/html": [
       "<table class=\"simpletable\">\n",
       "<caption>OLS Regression Results</caption>\n",
       "<tr>\n",
       "  <th>Dep. Variable:</th>       <td>np.log(tip)</td>   <th>  R-squared:         </th> <td>   0.311</td>\n",
       "</tr>\n",
       "<tr>\n",
       "  <th>Model:</th>                   <td>OLS</td>       <th>  Adj. R-squared:    </th> <td>   0.308</td>\n",
       "</tr>\n",
       "<tr>\n",
       "  <th>Method:</th>             <td>Least Squares</td>  <th>  F-statistic:       </th> <td>   109.0</td>\n",
       "</tr>\n",
       "<tr>\n",
       "  <th>Date:</th>             <td>Mon, 24 Jan 2022</td> <th>  Prob (F-statistic):</th> <td>2.60e-21</td>\n",
       "</tr>\n",
       "<tr>\n",
       "  <th>Time:</th>                 <td>08:22:46</td>     <th>  Log-Likelihood:    </th> <td> -97.886</td>\n",
       "</tr>\n",
       "<tr>\n",
       "  <th>No. Observations:</th>      <td>   244</td>      <th>  AIC:               </th> <td>   199.8</td>\n",
       "</tr>\n",
       "<tr>\n",
       "  <th>Df Residuals:</th>          <td>   242</td>      <th>  BIC:               </th> <td>   206.8</td>\n",
       "</tr>\n",
       "<tr>\n",
       "  <th>Df Model:</th>              <td>     1</td>      <th>                     </th>     <td> </td>   \n",
       "</tr>\n",
       "<tr>\n",
       "  <th>Covariance Type:</th>      <td>nonrobust</td>    <th>                     </th>     <td> </td>   \n",
       "</tr>\n",
       "</table>\n",
       "<table class=\"simpletable\">\n",
       "<tr>\n",
       "      <td></td>         <th>coef</th>     <th>std err</th>      <th>t</th>      <th>P>|t|</th>  <th>[0.025</th>    <th>0.975]</th>  \n",
       "</tr>\n",
       "<tr>\n",
       "  <th>Intercept</th> <td>    0.4945</td> <td>    0.054</td> <td>    9.172</td> <td> 0.000</td> <td>    0.388</td> <td>    0.601</td>\n",
       "</tr>\n",
       "<tr>\n",
       "  <th>net_bill</th>  <td>    0.0303</td> <td>    0.003</td> <td>   10.442</td> <td> 0.000</td> <td>    0.025</td> <td>    0.036</td>\n",
       "</tr>\n",
       "</table>\n",
       "<table class=\"simpletable\">\n",
       "<tr>\n",
       "  <th>Omnibus:</th>       <td> 2.865</td> <th>  Durbin-Watson:     </th> <td>   2.043</td>\n",
       "</tr>\n",
       "<tr>\n",
       "  <th>Prob(Omnibus):</th> <td> 0.239</td> <th>  Jarque-Bera (JB):  </th> <td>   2.502</td>\n",
       "</tr>\n",
       "<tr>\n",
       "  <th>Skew:</th>          <td>-0.215</td> <th>  Prob(JB):          </th> <td>   0.286</td>\n",
       "</tr>\n",
       "<tr>\n",
       "  <th>Kurtosis:</th>      <td> 3.248</td> <th>  Cond. No.          </th> <td>    43.3</td>\n",
       "</tr>\n",
       "</table><br/><br/>Notes:<br/>[1] Standard Errors assume that the covariance matrix of the errors is correctly specified."
      ],
      "text/plain": [
       "<class 'statsmodels.iolib.summary.Summary'>\n",
       "\"\"\"\n",
       "                            OLS Regression Results                            \n",
       "==============================================================================\n",
       "Dep. Variable:            np.log(tip)   R-squared:                       0.311\n",
       "Model:                            OLS   Adj. R-squared:                  0.308\n",
       "Method:                 Least Squares   F-statistic:                     109.0\n",
       "Date:                Mon, 24 Jan 2022   Prob (F-statistic):           2.60e-21\n",
       "Time:                        08:22:46   Log-Likelihood:                -97.886\n",
       "No. Observations:                 244   AIC:                             199.8\n",
       "Df Residuals:                     242   BIC:                             206.8\n",
       "Df Model:                           1                                         \n",
       "Covariance Type:            nonrobust                                         \n",
       "==============================================================================\n",
       "                 coef    std err          t      P>|t|      [0.025      0.975]\n",
       "------------------------------------------------------------------------------\n",
       "Intercept      0.4945      0.054      9.172      0.000       0.388       0.601\n",
       "net_bill       0.0303      0.003     10.442      0.000       0.025       0.036\n",
       "==============================================================================\n",
       "Omnibus:                        2.865   Durbin-Watson:                   2.043\n",
       "Prob(Omnibus):                  0.239   Jarque-Bera (JB):                2.502\n",
       "Skew:                          -0.215   Prob(JB):                        0.286\n",
       "Kurtosis:                       3.248   Cond. No.                         43.3\n",
       "==============================================================================\n",
       "\n",
       "Notes:\n",
       "[1] Standard Errors assume that the covariance matrix of the errors is correctly specified.\n",
       "\"\"\""
      ]
     },
     "execution_count": 14,
     "metadata": {},
     "output_type": "execute_result"
    },
    {
     "data": {
      "image/png": "[encoded data removed]",
      "text/plain": [
       "<Figure size 432x288 with 1 Axes>"
      ]
     },
     "metadata": {
      "needs_background": "light"
     },
     "output_type": "display_data"
    }
   ],
   "source": [
    "# item 2 e 3\n",
    "\n",
    "# Tirando as variaveis estatisticamente não significativas e construindo o Gráfico de Resíduo em Função do net_bill\n",
    "\n",
    "reg_tips = smf.ols('np.log(tip) ~ net_bill', data = tips).fit()\n",
    "\n",
    "tips['res_log'] = reg_tips.resid\n",
    "\n",
    "sns.scatterplot(x = 'net_bill', y = 'res_log', data = tips)\n",
    "\n",
    "plt.axhline(y=0, color='r', linestyle='--')\n",
    "\n",
    "reg_tips.summary()\n"
   ]
  },
  {
   "cell_type": "code",
   "execution_count": 15,
   "metadata": {},
   "outputs": [
    {
     "data": {
      "text/html": [
       "<table class=\"simpletable\">\n",
       "<caption>OLS Regression Results</caption>\n",
       "<tr>\n",
       "  <th>Dep. Variable:</th>       <td>np.log(tip)</td>   <th>  R-squared:         </th> <td>   0.319</td>\n",
       "</tr>\n",
       "<tr>\n",
       "  <th>Model:</th>                   <td>OLS</td>       <th>  Adj. R-squared:    </th> <td>   0.316</td>\n",
       "</tr>\n",
       "<tr>\n",
       "  <th>Method:</th>             <td>Least Squares</td>  <th>  F-statistic:       </th> <td>   113.5</td>\n",
       "</tr>\n",
       "<tr>\n",
       "  <th>Date:</th>             <td>Mon, 24 Jan 2022</td> <th>  Prob (F-statistic):</th> <td>5.62e-22</td>\n",
       "</tr>\n",
       "<tr>\n",
       "  <th>Time:</th>                 <td>08:22:51</td>     <th>  Log-Likelihood:    </th> <td> -96.357</td>\n",
       "</tr>\n",
       "<tr>\n",
       "  <th>No. Observations:</th>      <td>   244</td>      <th>  AIC:               </th> <td>   196.7</td>\n",
       "</tr>\n",
       "<tr>\n",
       "  <th>Df Residuals:</th>          <td>   242</td>      <th>  BIC:               </th> <td>   203.7</td>\n",
       "</tr>\n",
       "<tr>\n",
       "  <th>Df Model:</th>              <td>     1</td>      <th>                     </th>     <td> </td>   \n",
       "</tr>\n",
       "<tr>\n",
       "  <th>Covariance Type:</th>      <td>nonrobust</td>    <th>                     </th>     <td> </td>   \n",
       "</tr>\n",
       "</table>\n",
       "<table class=\"simpletable\">\n",
       "<tr>\n",
       "          <td></td>            <th>coef</th>     <th>std err</th>      <th>t</th>      <th>P>|t|</th>  <th>[0.025</th>    <th>0.975]</th>  \n",
       "</tr>\n",
       "<tr>\n",
       "  <th>Intercept</th>        <td>   -0.3942</td> <td>    0.133</td> <td>   -2.961</td> <td> 0.003</td> <td>   -0.657</td> <td>   -0.132</td>\n",
       "</tr>\n",
       "<tr>\n",
       "  <th>np.log(net_bill)</th> <td>    0.5151</td> <td>    0.048</td> <td>   10.652</td> <td> 0.000</td> <td>    0.420</td> <td>    0.610</td>\n",
       "</tr>\n",
       "</table>\n",
       "<table class=\"simpletable\">\n",
       "<tr>\n",
       "  <th>Omnibus:</th>       <td>12.633</td> <th>  Durbin-Watson:     </th> <td>   1.976</td>\n",
       "</tr>\n",
       "<tr>\n",
       "  <th>Prob(Omnibus):</th> <td> 0.002</td> <th>  Jarque-Bera (JB):  </th> <td>  28.054</td>\n",
       "</tr>\n",
       "<tr>\n",
       "  <th>Skew:</th>          <td> 0.141</td> <th>  Prob(JB):          </th> <td>8.10e-07</td>\n",
       "</tr>\n",
       "<tr>\n",
       "  <th>Kurtosis:</th>      <td> 4.637</td> <th>  Cond. No.          </th> <td>    17.9</td>\n",
       "</tr>\n",
       "</table><br/><br/>Notes:<br/>[1] Standard Errors assume that the covariance matrix of the errors is correctly specified."
      ],
      "text/plain": [
       "<class 'statsmodels.iolib.summary.Summary'>\n",
       "\"\"\"\n",
       "                            OLS Regression Results                            \n",
       "==============================================================================\n",
       "Dep. Variable:            np.log(tip)   R-squared:                       0.319\n",
       "Model:                            OLS   Adj. R-squared:                  0.316\n",
       "Method:                 Least Squares   F-statistic:                     113.5\n",
       "Date:                Mon, 24 Jan 2022   Prob (F-statistic):           5.62e-22\n",
       "Time:                        08:22:51   Log-Likelihood:                -96.357\n",
       "No. Observations:                 244   AIC:                             196.7\n",
       "Df Residuals:                     242   BIC:                             203.7\n",
       "Df Model:                           1                                         \n",
       "Covariance Type:            nonrobust                                         \n",
       "====================================================================================\n",
       "                       coef    std err          t      P>|t|      [0.025      0.975]\n",
       "------------------------------------------------------------------------------------\n",
       "Intercept           -0.3942      0.133     -2.961      0.003      -0.657      -0.132\n",
       "np.log(net_bill)     0.5151      0.048     10.652      0.000       0.420       0.610\n",
       "==============================================================================\n",
       "Omnibus:                       12.633   Durbin-Watson:                   1.976\n",
       "Prob(Omnibus):                  0.002   Jarque-Bera (JB):               28.054\n",
       "Skew:                           0.141   Prob(JB):                     8.10e-07\n",
       "Kurtosis:                       4.637   Cond. No.                         17.9\n",
       "==============================================================================\n",
       "\n",
       "Notes:\n",
       "[1] Standard Errors assume that the covariance matrix of the errors is correctly specified.\n",
       "\"\"\""
      ]
     },
     "execution_count": 15,
     "metadata": {},
     "output_type": "execute_result"
    },
    {
     "data": {
      "image/png": "[encoded data removed]",
      "text/plain": [
       "<Figure size 432x288 with 1 Axes>"
      ]
     },
     "metadata": {
      "needs_background": "light"
     },
     "output_type": "display_data"
    }
   ],
   "source": [
    "# item 4\n",
    "\n",
    "# Transformando o net_bill em log\n",
    "\n",
    "# 1(modelo)\n",
    "\n",
    "reg_tips = smf.ols('np.log(tip) ~ np.log(net_bill)', data = tips).fit()\n",
    "\n",
    "tips['res_log'] = reg_tips.resid\n",
    "\n",
    "sns.scatterplot(x = 'net_bill', y = 'res_log', data = tips)\n",
    "\n",
    "plt.axhline(y=0, color='r', linestyle='--')\n",
    "\n",
    "reg_tips.summary()\n"
   ]
  },
  {
   "cell_type": "code",
   "execution_count": 16,
   "metadata": {},
   "outputs": [
    {
     "data": {
      "text/html": [
       "<table class=\"simpletable\">\n",
       "<caption>OLS Regression Results</caption>\n",
       "<tr>\n",
       "  <th>Dep. Variable:</th>       <td>np.log(tip)</td>   <th>  R-squared:         </th> <td>   0.250</td>\n",
       "</tr>\n",
       "<tr>\n",
       "  <th>Model:</th>                   <td>OLS</td>       <th>  Adj. R-squared:    </th> <td>   0.247</td>\n",
       "</tr>\n",
       "<tr>\n",
       "  <th>Method:</th>             <td>Least Squares</td>  <th>  F-statistic:       </th> <td>   80.67</td>\n",
       "</tr>\n",
       "<tr>\n",
       "  <th>Date:</th>             <td>Mon, 24 Jan 2022</td> <th>  Prob (F-statistic):</th> <td>7.70e-17</td>\n",
       "</tr>\n",
       "<tr>\n",
       "  <th>Time:</th>                 <td>08:22:56</td>     <th>  Log-Likelihood:    </th> <td> -108.16</td>\n",
       "</tr>\n",
       "<tr>\n",
       "  <th>No. Observations:</th>      <td>   244</td>      <th>  AIC:               </th> <td>   220.3</td>\n",
       "</tr>\n",
       "<tr>\n",
       "  <th>Df Residuals:</th>          <td>   242</td>      <th>  BIC:               </th> <td>   227.3</td>\n",
       "</tr>\n",
       "<tr>\n",
       "  <th>Df Model:</th>              <td>     1</td>      <th>                     </th>     <td> </td>   \n",
       "</tr>\n",
       "<tr>\n",
       "  <th>Covariance Type:</th>      <td>nonrobust</td>    <th>                     </th>     <td> </td>   \n",
       "</tr>\n",
       "</table>\n",
       "<table class=\"simpletable\">\n",
       "<tr>\n",
       "            <td></td>               <th>coef</th>     <th>std err</th>      <th>t</th>      <th>P>|t|</th>  <th>[0.025</th>    <th>0.975]</th>  \n",
       "</tr>\n",
       "<tr>\n",
       "  <th>Intercept</th>             <td>    0.7894</td> <td>    0.034</td> <td>   23.273</td> <td> 0.000</td> <td>    0.723</td> <td>    0.856</td>\n",
       "</tr>\n",
       "<tr>\n",
       "  <th>np.power(net_bill, 2)</th> <td>    0.0006</td> <td> 6.86e-05</td> <td>    8.982</td> <td> 0.000</td> <td>    0.000</td> <td>    0.001</td>\n",
       "</tr>\n",
       "</table>\n",
       "<table class=\"simpletable\">\n",
       "<tr>\n",
       "  <th>Omnibus:</th>       <td> 2.469</td> <th>  Durbin-Watson:     </th> <td>   2.087</td>\n",
       "</tr>\n",
       "<tr>\n",
       "  <th>Prob(Omnibus):</th> <td> 0.291</td> <th>  Jarque-Bera (JB):  </th> <td>   2.507</td>\n",
       "</tr>\n",
       "<tr>\n",
       "  <th>Skew:</th>          <td>-0.240</td> <th>  Prob(JB):          </th> <td>   0.285</td>\n",
       "</tr>\n",
       "<tr>\n",
       "  <th>Kurtosis:</th>      <td> 2.874</td> <th>  Cond. No.          </th> <td>    692.</td>\n",
       "</tr>\n",
       "</table><br/><br/>Notes:<br/>[1] Standard Errors assume that the covariance matrix of the errors is correctly specified."
      ],
      "text/plain": [
       "<class 'statsmodels.iolib.summary.Summary'>\n",
       "\"\"\"\n",
       "                            OLS Regression Results                            \n",
       "==============================================================================\n",
       "Dep. Variable:            np.log(tip)   R-squared:                       0.250\n",
       "Model:                            OLS   Adj. R-squared:                  0.247\n",
       "Method:                 Least Squares   F-statistic:                     80.67\n",
       "Date:                Mon, 24 Jan 2022   Prob (F-statistic):           7.70e-17\n",
       "Time:                        08:22:56   Log-Likelihood:                -108.16\n",
       "No. Observations:                 244   AIC:                             220.3\n",
       "Df Residuals:                     242   BIC:                             227.3\n",
       "Df Model:                           1                                         \n",
       "Covariance Type:            nonrobust                                         \n",
       "=========================================================================================\n",
       "                            coef    std err          t      P>|t|      [0.025      0.975]\n",
       "-----------------------------------------------------------------------------------------\n",
       "Intercept                 0.7894      0.034     23.273      0.000       0.723       0.856\n",
       "np.power(net_bill, 2)     0.0006   6.86e-05      8.982      0.000       0.000       0.001\n",
       "==============================================================================\n",
       "Omnibus:                        2.469   Durbin-Watson:                   2.087\n",
       "Prob(Omnibus):                  0.291   Jarque-Bera (JB):                2.507\n",
       "Skew:                          -0.240   Prob(JB):                        0.285\n",
       "Kurtosis:                       2.874   Cond. No.                         692.\n",
       "==============================================================================\n",
       "\n",
       "Notes:\n",
       "[1] Standard Errors assume that the covariance matrix of the errors is correctly specified.\n",
       "\"\"\""
      ]
     },
     "execution_count": 16,
     "metadata": {},
     "output_type": "execute_result"
    },
    {
     "data": {
      "image/png": "[encoded data removed]",
      "text/plain": [
       "<Figure size 432x288 with 1 Axes>"
      ]
     },
     "metadata": {
      "needs_background": "light"
     },
     "output_type": "display_data"
    }
   ],
   "source": [
    "# Transformando o net_bill em um polinomio do segundo grau\n",
    "\n",
    "# 2(modelo)\n",
    "\n",
    "reg_tips = smf.ols('np.log(tip) ~ np.power(net_bill,2)', data = tips).fit()\n",
    "\n",
    "tips['res_log'] = reg_tips.resid\n",
    "\n",
    "sns.scatterplot(x = 'net_bill', y = 'res_log', data = tips)\n",
    "\n",
    "plt.axhline(y=0, color='r', linestyle='--')\n",
    "\n",
    "reg_tips.summary()\n"
   ]
  },
  {
   "cell_type": "code",
   "execution_count": null,
   "metadata": {},
   "outputs": [],
   "source": [
    "\n",
    "# 1(modelo) --> A transformações logaritmica apresentou: R-squared = 0.319\n",
    "\n",
    "# 2(modelo) --> A transformações quadrática(polinomio do segundo grau) apresentou: R-squared = 0.250\n",
    "\n",
    "# Melhor modelo: 1(modelo)\n"
   ]
  },
  {
   "cell_type": "code",
   "execution_count": 17,
   "metadata": {},
   "outputs": [
    {
     "data": {
      "text/html": [
       "<table class=\"simpletable\">\n",
       "<caption>OLS Regression Results</caption>\n",
       "<tr>\n",
       "  <th>Dep. Variable:</th>           <td>tip</td>       <th>  R-squared:         </th> <td>   0.333</td>\n",
       "</tr>\n",
       "<tr>\n",
       "  <th>Model:</th>                   <td>OLS</td>       <th>  Adj. R-squared:    </th> <td>   0.330</td>\n",
       "</tr>\n",
       "<tr>\n",
       "  <th>Method:</th>             <td>Least Squares</td>  <th>  F-statistic:       </th> <td>   120.6</td>\n",
       "</tr>\n",
       "<tr>\n",
       "  <th>Date:</th>             <td>Mon, 24 Jan 2022</td> <th>  Prob (F-statistic):</th> <td>5.02e-23</td>\n",
       "</tr>\n",
       "<tr>\n",
       "  <th>Time:</th>                 <td>08:23:02</td>     <th>  Log-Likelihood:    </th> <td> -375.63</td>\n",
       "</tr>\n",
       "<tr>\n",
       "  <th>No. Observations:</th>      <td>   244</td>      <th>  AIC:               </th> <td>   755.3</td>\n",
       "</tr>\n",
       "<tr>\n",
       "  <th>Df Residuals:</th>          <td>   242</td>      <th>  BIC:               </th> <td>   762.3</td>\n",
       "</tr>\n",
       "<tr>\n",
       "  <th>Df Model:</th>              <td>     1</td>      <th>                     </th>     <td> </td>   \n",
       "</tr>\n",
       "<tr>\n",
       "  <th>Covariance Type:</th>      <td>nonrobust</td>    <th>                     </th>     <td> </td>   \n",
       "</tr>\n",
       "</table>\n",
       "<table class=\"simpletable\">\n",
       "<tr>\n",
       "      <td></td>         <th>coef</th>     <th>std err</th>      <th>t</th>      <th>P>|t|</th>  <th>[0.025</th>    <th>0.975]</th>  \n",
       "</tr>\n",
       "<tr>\n",
       "  <th>Intercept</th> <td>    1.3307</td> <td>    0.168</td> <td>    7.907</td> <td> 0.000</td> <td>    0.999</td> <td>    1.662</td>\n",
       "</tr>\n",
       "<tr>\n",
       "  <th>net_bill</th>  <td>    0.0993</td> <td>    0.009</td> <td>   10.980</td> <td> 0.000</td> <td>    0.082</td> <td>    0.117</td>\n",
       "</tr>\n",
       "</table>\n",
       "<table class=\"simpletable\">\n",
       "<tr>\n",
       "  <th>Omnibus:</th>       <td>33.873</td> <th>  Durbin-Watson:     </th> <td>   2.123</td>\n",
       "</tr>\n",
       "<tr>\n",
       "  <th>Prob(Omnibus):</th> <td> 0.000</td> <th>  Jarque-Bera (JB):  </th> <td>  59.942</td>\n",
       "</tr>\n",
       "<tr>\n",
       "  <th>Skew:</th>          <td> 0.754</td> <th>  Prob(JB):          </th> <td>9.63e-14</td>\n",
       "</tr>\n",
       "<tr>\n",
       "  <th>Kurtosis:</th>      <td> 4.903</td> <th>  Cond. No.          </th> <td>    43.3</td>\n",
       "</tr>\n",
       "</table><br/><br/>Notes:<br/>[1] Standard Errors assume that the covariance matrix of the errors is correctly specified."
      ],
      "text/plain": [
       "<class 'statsmodels.iolib.summary.Summary'>\n",
       "\"\"\"\n",
       "                            OLS Regression Results                            \n",
       "==============================================================================\n",
       "Dep. Variable:                    tip   R-squared:                       0.333\n",
       "Model:                            OLS   Adj. R-squared:                  0.330\n",
       "Method:                 Least Squares   F-statistic:                     120.6\n",
       "Date:                Mon, 24 Jan 2022   Prob (F-statistic):           5.02e-23\n",
       "Time:                        08:23:02   Log-Likelihood:                -375.63\n",
       "No. Observations:                 244   AIC:                             755.3\n",
       "Df Residuals:                     242   BIC:                             762.3\n",
       "Df Model:                           1                                         \n",
       "Covariance Type:            nonrobust                                         \n",
       "==============================================================================\n",
       "                 coef    std err          t      P>|t|      [0.025      0.975]\n",
       "------------------------------------------------------------------------------\n",
       "Intercept      1.3307      0.168      7.907      0.000       0.999       1.662\n",
       "net_bill       0.0993      0.009     10.980      0.000       0.082       0.117\n",
       "==============================================================================\n",
       "Omnibus:                       33.873   Durbin-Watson:                   2.123\n",
       "Prob(Omnibus):                  0.000   Jarque-Bera (JB):               59.942\n",
       "Skew:                           0.754   Prob(JB):                     9.63e-14\n",
       "Kurtosis:                       4.903   Cond. No.                         43.3\n",
       "==============================================================================\n",
       "\n",
       "Notes:\n",
       "[1] Standard Errors assume that the covariance matrix of the errors is correctly specified.\n",
       "\"\"\""
      ]
     },
     "execution_count": 17,
     "metadata": {},
     "output_type": "execute_result"
    }
   ],
   "source": [
    "# item 5\n",
    "\n",
    "reg_tips = smf.ols('tip ~ net_bill', data = tips).fit()\n",
    "\n",
    "tips['r_escala_tip'] = reg_tips.resid\n",
    "\n",
    "reg_tips.summary() \n"
   ]
  },
  {
   "cell_type": "code",
   "execution_count": null,
   "metadata": {},
   "outputs": [],
   "source": [
    "# coef\n",
    "\n",
    "# Eu creio que o modelo do item 5 apresenta um melhor coeficiente\n"
   ]
  },
  {
   "cell_type": "markdown",
   "metadata": {},
   "source": [
    "### III. Previsão de renda\n",
    "\n",
    "Vamos trabalhar a base que você vai usar no projeto do final deste ciclo.\n",
    "\n",
    "Carregue a base ```previsao_de_renda.csv```.\n",
    "\n",
    "|variavel|descrição|\n",
    "|-|-|\n",
    "|data_ref                | Data de referência de coleta das variáveis |\n",
    "|index                   | Código de identificação do cliente|\n",
    "|sexo                    | Sexo do cliente|\n",
    "|posse_de_veiculo        | Indica se o cliente possui veículo|\n",
    "|posse_de_imovel         | Indica se o cliente possui imóvel|\n",
    "|qtd_filhos              | Quantidade de filhos do cliente|\n",
    "|tipo_renda              | Tipo de renda do cliente|\n",
    "|educacao                | Grau de instrução do cliente|\n",
    "|estado_civil            | Estado civil do cliente|\n",
    "|tipo_residencia         | Tipo de residência do cliente (própria, alugada etc)|\n",
    "|idade                   | Idade do cliente|\n",
    "|tempo_emprego           | Tempo no emprego atual|\n",
    "|qt_pessoas_residencia   | Quantidade de pessoas que moram na residência|\n",
    "|renda                   | Renda em reais|\n",
    "\n",
    "1. Ajuste um modelo de regressão linear simples para explicar ```renda``` como variável resposta, por ```tempo_emprego``` como variável explicativa. Observe que há muitas observações nessa tabela. Utilize os recursos que achar necessário.\n",
    "2. Faça uma análise de resíduos. Com os recursos vistos neste módulo, como você melhoraria esta regressão?\n",
    "3. Ajuste um modelo de regressão linear múltipla para explicar ```renda``` (ou uma transformação de ```renda```) de acordo com as demais variáveis.\n",
    "4. Remova as variáveis não significantes e ajuste novamente o modelo. Interprete os parâmetros\n",
    "5. Faça uma análise de resíduos. Avalie a qualidade do ajuste."
   ]
  },
  {
   "cell_type": "code",
   "execution_count": 18,
   "metadata": {},
   "outputs": [],
   "source": [
    "\n",
    "prev_renda = pd.read_csv('M12_previsao_renda.csv').drop(['Unnamed: 0','data_ref','index'], \n",
    "                                                        axis = 1).dropna().drop_duplicates().reset_index(drop = True)\n",
    "\n",
    "prev_renda.sexo = prev_renda.sexo.map({'M' : 0, 'F': 1})\n"
   ]
  },
  {
   "cell_type": "code",
   "execution_count": 19,
   "metadata": {},
   "outputs": [
    {
     "data": {
      "text/html": [
       "<table class=\"simpletable\">\n",
       "<caption>OLS Regression Results</caption>\n",
       "<tr>\n",
       "  <th>Dep. Variable:</th>          <td>renda</td>      <th>  R-squared:         </th> <td>   0.163</td> \n",
       "</tr>\n",
       "<tr>\n",
       "  <th>Model:</th>                   <td>OLS</td>       <th>  Adj. R-squared:    </th> <td>   0.163</td> \n",
       "</tr>\n",
       "<tr>\n",
       "  <th>Method:</th>             <td>Least Squares</td>  <th>  F-statistic:       </th> <td>   1693.</td> \n",
       "</tr>\n",
       "<tr>\n",
       "  <th>Date:</th>             <td>Mon, 24 Jan 2022</td> <th>  Prob (F-statistic):</th>  <td>  0.00</td>  \n",
       "</tr>\n",
       "<tr>\n",
       "  <th>Time:</th>                 <td>08:23:45</td>     <th>  Log-Likelihood:    </th> <td> -85557.</td> \n",
       "</tr>\n",
       "<tr>\n",
       "  <th>No. Observations:</th>      <td>  8704</td>      <th>  AIC:               </th> <td>1.711e+05</td>\n",
       "</tr>\n",
       "<tr>\n",
       "  <th>Df Residuals:</th>          <td>  8702</td>      <th>  BIC:               </th> <td>1.711e+05</td>\n",
       "</tr>\n",
       "<tr>\n",
       "  <th>Df Model:</th>              <td>     1</td>      <th>                     </th>     <td> </td>    \n",
       "</tr>\n",
       "<tr>\n",
       "  <th>Covariance Type:</th>      <td>nonrobust</td>    <th>                     </th>     <td> </td>    \n",
       "</tr>\n",
       "</table>\n",
       "<table class=\"simpletable\">\n",
       "<tr>\n",
       "        <td></td>           <th>coef</th>     <th>std err</th>      <th>t</th>      <th>P>|t|</th>  <th>[0.025</th>    <th>0.975]</th>  \n",
       "</tr>\n",
       "<tr>\n",
       "  <th>Intercept</th>     <td> 2572.9860</td> <td>   73.415</td> <td>   35.047</td> <td> 0.000</td> <td> 2429.076</td> <td> 2716.896</td>\n",
       "</tr>\n",
       "<tr>\n",
       "  <th>tempo_emprego</th> <td>  293.3767</td> <td>    7.130</td> <td>   41.149</td> <td> 0.000</td> <td>  279.401</td> <td>  307.352</td>\n",
       "</tr>\n",
       "</table>\n",
       "<table class=\"simpletable\">\n",
       "<tr>\n",
       "  <th>Omnibus:</th>       <td>7161.051</td> <th>  Durbin-Watson:     </th>  <td>   2.019</td> \n",
       "</tr>\n",
       "<tr>\n",
       "  <th>Prob(Omnibus):</th>  <td> 0.000</td>  <th>  Jarque-Bera (JB):  </th> <td>322655.872</td>\n",
       "</tr>\n",
       "<tr>\n",
       "  <th>Skew:</th>           <td> 3.654</td>  <th>  Prob(JB):          </th>  <td>    0.00</td> \n",
       "</tr>\n",
       "<tr>\n",
       "  <th>Kurtosis:</th>       <td>31.918</td>  <th>  Cond. No.          </th>  <td>    15.8</td> \n",
       "</tr>\n",
       "</table><br/><br/>Notes:<br/>[1] Standard Errors assume that the covariance matrix of the errors is correctly specified."
      ],
      "text/plain": [
       "<class 'statsmodels.iolib.summary.Summary'>\n",
       "\"\"\"\n",
       "                            OLS Regression Results                            \n",
       "==============================================================================\n",
       "Dep. Variable:                  renda   R-squared:                       0.163\n",
       "Model:                            OLS   Adj. R-squared:                  0.163\n",
       "Method:                 Least Squares   F-statistic:                     1693.\n",
       "Date:                Mon, 24 Jan 2022   Prob (F-statistic):               0.00\n",
       "Time:                        08:23:45   Log-Likelihood:                -85557.\n",
       "No. Observations:                8704   AIC:                         1.711e+05\n",
       "Df Residuals:                    8702   BIC:                         1.711e+05\n",
       "Df Model:                           1                                         \n",
       "Covariance Type:            nonrobust                                         \n",
       "=================================================================================\n",
       "                    coef    std err          t      P>|t|      [0.025      0.975]\n",
       "---------------------------------------------------------------------------------\n",
       "Intercept      2572.9860     73.415     35.047      0.000    2429.076    2716.896\n",
       "tempo_emprego   293.3767      7.130     41.149      0.000     279.401     307.352\n",
       "==============================================================================\n",
       "Omnibus:                     7161.051   Durbin-Watson:                   2.019\n",
       "Prob(Omnibus):                  0.000   Jarque-Bera (JB):           322655.872\n",
       "Skew:                           3.654   Prob(JB):                         0.00\n",
       "Kurtosis:                      31.918   Cond. No.                         15.8\n",
       "==============================================================================\n",
       "\n",
       "Notes:\n",
       "[1] Standard Errors assume that the covariance matrix of the errors is correctly specified.\n",
       "\"\"\""
      ]
     },
     "execution_count": 19,
     "metadata": {},
     "output_type": "execute_result"
    }
   ],
   "source": [
    "# item 1\n",
    "\n",
    "reg_linear = smf.ols('renda ~ tempo_emprego', data = prev_renda).fit()\n",
    "\n",
    "reg_linear.summary()\n"
   ]
  },
  {
   "cell_type": "code",
   "execution_count": 20,
   "metadata": {},
   "outputs": [
    {
     "data": {
      "text/html": [
       "<table class=\"simpletable\">\n",
       "<caption>OLS Regression Results</caption>\n",
       "<tr>\n",
       "  <th>Dep. Variable:</th>          <td>renda</td>      <th>  R-squared:         </th> <td>   0.177</td> \n",
       "</tr>\n",
       "<tr>\n",
       "  <th>Model:</th>                   <td>OLS</td>       <th>  Adj. R-squared:    </th> <td>   0.177</td> \n",
       "</tr>\n",
       "<tr>\n",
       "  <th>Method:</th>             <td>Least Squares</td>  <th>  F-statistic:       </th> <td>   1877.</td> \n",
       "</tr>\n",
       "<tr>\n",
       "  <th>Date:</th>             <td>Mon, 24 Jan 2022</td> <th>  Prob (F-statistic):</th>  <td>  0.00</td>  \n",
       "</tr>\n",
       "<tr>\n",
       "  <th>Time:</th>                 <td>08:23:59</td>     <th>  Log-Likelihood:    </th> <td> -85481.</td> \n",
       "</tr>\n",
       "<tr>\n",
       "  <th>No. Observations:</th>      <td>  8704</td>      <th>  AIC:               </th> <td>1.710e+05</td>\n",
       "</tr>\n",
       "<tr>\n",
       "  <th>Df Residuals:</th>          <td>  8702</td>      <th>  BIC:               </th> <td>1.710e+05</td>\n",
       "</tr>\n",
       "<tr>\n",
       "  <th>Df Model:</th>              <td>     1</td>      <th>                     </th>     <td> </td>    \n",
       "</tr>\n",
       "<tr>\n",
       "  <th>Covariance Type:</th>      <td>nonrobust</td>    <th>                     </th>     <td> </td>    \n",
       "</tr>\n",
       "</table>\n",
       "<table class=\"simpletable\">\n",
       "<tr>\n",
       "               <td></td>                 <th>coef</th>     <th>std err</th>      <th>t</th>      <th>P>|t|</th>  <th>[0.025</th>    <th>0.975]</th>  \n",
       "</tr>\n",
       "<tr>\n",
       "  <th>Intercept</th>                  <td> 3738.9421</td> <td>   54.238</td> <td>   68.936</td> <td> 0.000</td> <td> 3632.623</td> <td> 3845.261</td>\n",
       "</tr>\n",
       "<tr>\n",
       "  <th>np.power(tempo_emprego, 2)</th> <td>   10.4999</td> <td>    0.242</td> <td>   43.321</td> <td> 0.000</td> <td>   10.025</td> <td>   10.975</td>\n",
       "</tr>\n",
       "</table>\n",
       "<table class=\"simpletable\">\n",
       "<tr>\n",
       "  <th>Omnibus:</th>       <td>6808.573</td> <th>  Durbin-Watson:     </th>  <td>   2.018</td> \n",
       "</tr>\n",
       "<tr>\n",
       "  <th>Prob(Omnibus):</th>  <td> 0.000</td>  <th>  Jarque-Bera (JB):  </th> <td>257898.522</td>\n",
       "</tr>\n",
       "<tr>\n",
       "  <th>Skew:</th>           <td> 3.436</td>  <th>  Prob(JB):          </th>  <td>    0.00</td> \n",
       "</tr>\n",
       "<tr>\n",
       "  <th>Kurtosis:</th>       <td>28.766</td>  <th>  Cond. No.          </th>  <td>    254.</td> \n",
       "</tr>\n",
       "</table><br/><br/>Notes:<br/>[1] Standard Errors assume that the covariance matrix of the errors is correctly specified."
      ],
      "text/plain": [
       "<class 'statsmodels.iolib.summary.Summary'>\n",
       "\"\"\"\n",
       "                            OLS Regression Results                            \n",
       "==============================================================================\n",
       "Dep. Variable:                  renda   R-squared:                       0.177\n",
       "Model:                            OLS   Adj. R-squared:                  0.177\n",
       "Method:                 Least Squares   F-statistic:                     1877.\n",
       "Date:                Mon, 24 Jan 2022   Prob (F-statistic):               0.00\n",
       "Time:                        08:23:59   Log-Likelihood:                -85481.\n",
       "No. Observations:                8704   AIC:                         1.710e+05\n",
       "Df Residuals:                    8702   BIC:                         1.710e+05\n",
       "Df Model:                           1                                         \n",
       "Covariance Type:            nonrobust                                         \n",
       "==============================================================================================\n",
       "                                 coef    std err          t      P>|t|      [0.025      0.975]\n",
       "----------------------------------------------------------------------------------------------\n",
       "Intercept                   3738.9421     54.238     68.936      0.000    3632.623    3845.261\n",
       "np.power(tempo_emprego, 2)    10.4999      0.242     43.321      0.000      10.025      10.975\n",
       "==============================================================================\n",
       "Omnibus:                     6808.573   Durbin-Watson:                   2.018\n",
       "Prob(Omnibus):                  0.000   Jarque-Bera (JB):           257898.522\n",
       "Skew:                           3.436   Prob(JB):                         0.00\n",
       "Kurtosis:                      28.766   Cond. No.                         254.\n",
       "==============================================================================\n",
       "\n",
       "Notes:\n",
       "[1] Standard Errors assume that the covariance matrix of the errors is correctly specified.\n",
       "\"\"\""
      ]
     },
     "execution_count": 20,
     "metadata": {},
     "output_type": "execute_result"
    }
   ],
   "source": [
    "# item 2\n",
    "\n",
    "# R-squared = 0.163 -> função polinomial do primeiro grau(linear)\n",
    "\n",
    "# R-squared = 0.177 -> função polinomial do segundo grau(quadratica)\n",
    "\n",
    "# usaria a função polinomial do segundo grau para melhorar o modelo\n",
    "\n",
    "res_func_quadratica = smf.ols('(renda) ~ np.power(tempo_emprego,2)', data = prev_renda).fit()\n",
    "\n",
    "prev_renda['res_func_quadratica'] = res_func_quadratica.resid\n",
    "\n",
    "res_func_quadratica.summary() \n"
   ]
  },
  {
   "cell_type": "markdown",
   "metadata": {},
   "source": [
    "Variável categórica\n",
    "As variáveis categóricas contêm um número finito de categorias ou grupos distintos. Os dados categóricos podem não ter uma ordem lógica. Por exemplo, os preditores categóricos incluem gênero, tipo de material e método de pagamento."
   ]
  },
  {
   "cell_type": "code",
   "execution_count": 21,
   "metadata": {},
   "outputs": [],
   "source": [
    "# item 3\n",
    "\n",
    "# Transformando em dammys\n",
    "\n",
    "prev_renda_dammy = prev_renda.copy()\n",
    "\n",
    "prev_renda_dammy = pd.get_dummies(prev_renda_dammy[[\n",
    "                                                    'sexo', \n",
    "                                                    'posse_de_veiculo', \n",
    "                                                    'posse_de_imovel', \n",
    "                                                    'qtd_filhos', \n",
    "                                                    'tipo_renda', \n",
    "                                                    'educacao', \n",
    "                                                    'estado_civil', \n",
    "                                                    'tipo_residencia', \n",
    "                                                    'idade', \n",
    "                                                    'tempo_emprego', \n",
    "                                                    'qt_pessoas_residencia', \n",
    "                                                    'mau', \n",
    "                                                    'renda']], \n",
    "                                  drop_first = True).rename(columns = {\n",
    "                                                    'tipo_renda_Servidor público':'tipo_renda_Servidor_público', \n",
    "                                                    'educacao_Pós graduação':'educacao_Pós_graduação', \n",
    "                                                    'educacao_Superior completo':'educacao_Superior_completo', \n",
    "                                                    'educacao_Superior incompleto':'educacao_Superior_incompleto', \n",
    "                                                    'tipo_residencia_Com os pais':'tipo_residencia_Com_os_pais'})\n",
    "\n",
    "\n"
   ]
  },
  {
   "cell_type": "code",
   "execution_count": 22,
   "metadata": {},
   "outputs": [
    {
     "data": {
      "text/html": [
       "<table class=\"simpletable\">\n",
       "<caption>OLS Regression Results</caption>\n",
       "<tr>\n",
       "  <th>Dep. Variable:</th>          <td>renda</td>      <th>  R-squared:         </th> <td>   0.227</td> \n",
       "</tr>\n",
       "<tr>\n",
       "  <th>Model:</th>                   <td>OLS</td>       <th>  Adj. R-squared:    </th> <td>   0.224</td> \n",
       "</tr>\n",
       "<tr>\n",
       "  <th>Method:</th>             <td>Least Squares</td>  <th>  F-statistic:       </th> <td>   101.7</td> \n",
       "</tr>\n",
       "<tr>\n",
       "  <th>Date:</th>             <td>Mon, 24 Jan 2022</td> <th>  Prob (F-statistic):</th>  <td>  0.00</td>  \n",
       "</tr>\n",
       "<tr>\n",
       "  <th>Time:</th>                 <td>08:24:13</td>     <th>  Log-Likelihood:    </th> <td> -85212.</td> \n",
       "</tr>\n",
       "<tr>\n",
       "  <th>No. Observations:</th>      <td>  8704</td>      <th>  AIC:               </th> <td>1.705e+05</td>\n",
       "</tr>\n",
       "<tr>\n",
       "  <th>Df Residuals:</th>          <td>  8678</td>      <th>  BIC:               </th> <td>1.707e+05</td>\n",
       "</tr>\n",
       "<tr>\n",
       "  <th>Df Model:</th>              <td>    25</td>      <th>                     </th>     <td> </td>    \n",
       "</tr>\n",
       "<tr>\n",
       "  <th>Covariance Type:</th>      <td>nonrobust</td>    <th>                     </th>     <td> </td>    \n",
       "</tr>\n",
       "</table>\n",
       "<table class=\"simpletable\">\n",
       "<tr>\n",
       "                <td></td>                   <th>coef</th>     <th>std err</th>      <th>t</th>      <th>P>|t|</th>  <th>[0.025</th>    <th>0.975]</th>  \n",
       "</tr>\n",
       "<tr>\n",
       "  <th>Intercept</th>                     <td> 2307.5309</td> <td> 2011.407</td> <td>    1.147</td> <td> 0.251</td> <td>-1635.304</td> <td> 6250.366</td>\n",
       "</tr>\n",
       "<tr>\n",
       "  <th>posse_de_veiculo[T.True]</th>      <td> -130.3944</td> <td>  102.091</td> <td>   -1.277</td> <td> 0.202</td> <td> -330.517</td> <td>   69.729</td>\n",
       "</tr>\n",
       "<tr>\n",
       "  <th>posse_de_imovel[T.True]</th>       <td>  260.3779</td> <td>  100.582</td> <td>    2.589</td> <td> 0.010</td> <td>   63.213</td> <td>  457.542</td>\n",
       "</tr>\n",
       "<tr>\n",
       "  <th>mau[T.True]</th>                   <td>   60.0706</td> <td>  313.383</td> <td>    0.192</td> <td> 0.848</td> <td> -554.235</td> <td>  674.376</td>\n",
       "</tr>\n",
       "<tr>\n",
       "  <th>sexo</th>                          <td>-2417.7528</td> <td>  106.314</td> <td>  -22.742</td> <td> 0.000</td> <td>-2626.154</td> <td>-2209.351</td>\n",
       "</tr>\n",
       "<tr>\n",
       "  <th>qtd_filhos</th>                    <td> -282.6814</td> <td>  947.208</td> <td>   -0.298</td> <td> 0.765</td> <td>-2139.434</td> <td> 1574.071</td>\n",
       "</tr>\n",
       "<tr>\n",
       "  <th>idade</th>                         <td>   29.9671</td> <td>    5.793</td> <td>    5.173</td> <td> 0.000</td> <td>   18.611</td> <td>   41.323</td>\n",
       "</tr>\n",
       "<tr>\n",
       "  <th>tempo_emprego</th>                 <td>  309.4355</td> <td>    7.422</td> <td>   41.692</td> <td> 0.000</td> <td>  294.887</td> <td>  323.984</td>\n",
       "</tr>\n",
       "<tr>\n",
       "  <th>qt_pessoas_residencia</th>         <td>  348.8958</td> <td>  945.697</td> <td>    0.369</td> <td> 0.712</td> <td>-1504.895</td> <td> 2202.686</td>\n",
       "</tr>\n",
       "<tr>\n",
       "  <th>tipo_renda_Bolsista</th>           <td>-1543.9176</td> <td> 2501.037</td> <td>   -0.617</td> <td> 0.537</td> <td>-6446.544</td> <td> 3358.708</td>\n",
       "</tr>\n",
       "<tr>\n",
       "  <th>tipo_renda_Empresário</th>         <td> 1037.7799</td> <td>  108.190</td> <td>    9.592</td> <td> 0.000</td> <td>  825.703</td> <td> 1249.857</td>\n",
       "</tr>\n",
       "<tr>\n",
       "  <th>tipo_renda_Pensionista</th>        <td> 2397.5433</td> <td> 1961.419</td> <td>    1.222</td> <td> 0.222</td> <td>-1447.303</td> <td> 6242.390</td>\n",
       "</tr>\n",
       "<tr>\n",
       "  <th>tipo_renda_Servidor_público</th>   <td>  513.4587</td> <td>  158.528</td> <td>    3.239</td> <td> 0.001</td> <td>  202.707</td> <td>  824.211</td>\n",
       "</tr>\n",
       "<tr>\n",
       "  <th>educacao_Pós_graduação</th>        <td> 1960.5693</td> <td> 1317.258</td> <td>    1.488</td> <td> 0.137</td> <td> -621.569</td> <td> 4542.707</td>\n",
       "</tr>\n",
       "<tr>\n",
       "  <th>educacao_Secundário</th>           <td> -382.5728</td> <td>  542.197</td> <td>   -0.706</td> <td> 0.480</td> <td>-1445.407</td> <td>  680.261</td>\n",
       "</tr>\n",
       "<tr>\n",
       "  <th>educacao_Superior_completo</th>    <td>   78.5053</td> <td>  544.200</td> <td>    0.144</td> <td> 0.885</td> <td> -988.257</td> <td> 1145.267</td>\n",
       "</tr>\n",
       "<tr>\n",
       "  <th>educacao_Superior_incompleto</th>  <td> -389.7404</td> <td>  582.852</td> <td>   -0.669</td> <td> 0.504</td> <td>-1532.268</td> <td>  752.788</td>\n",
       "</tr>\n",
       "<tr>\n",
       "  <th>estado_civil_Separado</th>         <td>  160.4906</td> <td>  967.124</td> <td>    0.166</td> <td> 0.868</td> <td>-1735.303</td> <td> 2056.284</td>\n",
       "</tr>\n",
       "<tr>\n",
       "  <th>estado_civil_Solteiro</th>         <td>  497.8104</td> <td>  951.745</td> <td>    0.523</td> <td> 0.601</td> <td>-1367.836</td> <td> 2363.457</td>\n",
       "</tr>\n",
       "<tr>\n",
       "  <th>estado_civil_União</th>            <td>  -28.4093</td> <td>  174.094</td> <td>   -0.163</td> <td> 0.870</td> <td> -369.675</td> <td>  312.857</td>\n",
       "</tr>\n",
       "<tr>\n",
       "  <th>estado_civil_Viúvo</th>            <td>  158.5752</td> <td>  995.513</td> <td>    0.159</td> <td> 0.873</td> <td>-1792.867</td> <td> 2110.018</td>\n",
       "</tr>\n",
       "<tr>\n",
       "  <th>tipo_residencia_Casa</th>          <td> -481.5380</td> <td>  385.894</td> <td>   -1.248</td> <td> 0.212</td> <td>-1237.983</td> <td>  274.907</td>\n",
       "</tr>\n",
       "<tr>\n",
       "  <th>tipo_residencia_Com_os_pais</th>   <td> -696.5152</td> <td>  436.569</td> <td>   -1.595</td> <td> 0.111</td> <td>-1552.294</td> <td>  159.263</td>\n",
       "</tr>\n",
       "<tr>\n",
       "  <th>tipo_residencia_Comunitário</th>   <td> -723.8068</td> <td>  733.578</td> <td>   -0.987</td> <td> 0.324</td> <td>-2161.794</td> <td>  714.180</td>\n",
       "</tr>\n",
       "<tr>\n",
       "  <th>tipo_residencia_Estúdio</th>       <td>-1045.7605</td> <td>  657.778</td> <td>   -1.590</td> <td> 0.112</td> <td>-2335.161</td> <td>  243.640</td>\n",
       "</tr>\n",
       "<tr>\n",
       "  <th>tipo_residencia_Governamental</th> <td>-1116.0325</td> <td>  463.118</td> <td>   -2.410</td> <td> 0.016</td> <td>-2023.853</td> <td> -208.212</td>\n",
       "</tr>\n",
       "</table>\n",
       "<table class=\"simpletable\">\n",
       "<tr>\n",
       "  <th>Omnibus:</th>       <td>7274.691</td> <th>  Durbin-Watson:     </th>  <td>   2.027</td> \n",
       "</tr>\n",
       "<tr>\n",
       "  <th>Prob(Omnibus):</th>  <td> 0.000</td>  <th>  Jarque-Bera (JB):  </th> <td>368229.604</td>\n",
       "</tr>\n",
       "<tr>\n",
       "  <th>Skew:</th>           <td> 3.702</td>  <th>  Prob(JB):          </th>  <td>    0.00</td> \n",
       "</tr>\n",
       "<tr>\n",
       "  <th>Kurtosis:</th>       <td>33.992</td>  <th>  Cond. No.          </th>  <td>2.65e+03</td> \n",
       "</tr>\n",
       "</table><br/><br/>Notes:<br/>[1] Standard Errors assume that the covariance matrix of the errors is correctly specified.<br/>[2] The condition number is large, 2.65e+03. This might indicate that there are<br/>strong multicollinearity or other numerical problems."
      ],
      "text/plain": [
       "<class 'statsmodels.iolib.summary.Summary'>\n",
       "\"\"\"\n",
       "                            OLS Regression Results                            \n",
       "==============================================================================\n",
       "Dep. Variable:                  renda   R-squared:                       0.227\n",
       "Model:                            OLS   Adj. R-squared:                  0.224\n",
       "Method:                 Least Squares   F-statistic:                     101.7\n",
       "Date:                Mon, 24 Jan 2022   Prob (F-statistic):               0.00\n",
       "Time:                        08:24:13   Log-Likelihood:                -85212.\n",
       "No. Observations:                8704   AIC:                         1.705e+05\n",
       "Df Residuals:                    8678   BIC:                         1.707e+05\n",
       "Df Model:                          25                                         \n",
       "Covariance Type:            nonrobust                                         \n",
       "=================================================================================================\n",
       "                                    coef    std err          t      P>|t|      [0.025      0.975]\n",
       "-------------------------------------------------------------------------------------------------\n",
       "Intercept                      2307.5309   2011.407      1.147      0.251   -1635.304    6250.366\n",
       "posse_de_veiculo[T.True]       -130.3944    102.091     -1.277      0.202    -330.517      69.729\n",
       "posse_de_imovel[T.True]         260.3779    100.582      2.589      0.010      63.213     457.542\n",
       "mau[T.True]                      60.0706    313.383      0.192      0.848    -554.235     674.376\n",
       "sexo                          -2417.7528    106.314    -22.742      0.000   -2626.154   -2209.351\n",
       "qtd_filhos                     -282.6814    947.208     -0.298      0.765   -2139.434    1574.071\n",
       "idade                            29.9671      5.793      5.173      0.000      18.611      41.323\n",
       "tempo_emprego                   309.4355      7.422     41.692      0.000     294.887     323.984\n",
       "qt_pessoas_residencia           348.8958    945.697      0.369      0.712   -1504.895    2202.686\n",
       "tipo_renda_Bolsista           -1543.9176   2501.037     -0.617      0.537   -6446.544    3358.708\n",
       "tipo_renda_Empresário          1037.7799    108.190      9.592      0.000     825.703    1249.857\n",
       "tipo_renda_Pensionista         2397.5433   1961.419      1.222      0.222   -1447.303    6242.390\n",
       "tipo_renda_Servidor_público     513.4587    158.528      3.239      0.001     202.707     824.211\n",
       "educacao_Pós_graduação         1960.5693   1317.258      1.488      0.137    -621.569    4542.707\n",
       "educacao_Secundário            -382.5728    542.197     -0.706      0.480   -1445.407     680.261\n",
       "educacao_Superior_completo       78.5053    544.200      0.144      0.885    -988.257    1145.267\n",
       "educacao_Superior_incompleto   -389.7404    582.852     -0.669      0.504   -1532.268     752.788\n",
       "estado_civil_Separado           160.4906    967.124      0.166      0.868   -1735.303    2056.284\n",
       "estado_civil_Solteiro           497.8104    951.745      0.523      0.601   -1367.836    2363.457\n",
       "estado_civil_União              -28.4093    174.094     -0.163      0.870    -369.675     312.857\n",
       "estado_civil_Viúvo              158.5752    995.513      0.159      0.873   -1792.867    2110.018\n",
       "tipo_residencia_Casa           -481.5380    385.894     -1.248      0.212   -1237.983     274.907\n",
       "tipo_residencia_Com_os_pais    -696.5152    436.569     -1.595      0.111   -1552.294     159.263\n",
       "tipo_residencia_Comunitário    -723.8068    733.578     -0.987      0.324   -2161.794     714.180\n",
       "tipo_residencia_Estúdio       -1045.7605    657.778     -1.590      0.112   -2335.161     243.640\n",
       "tipo_residencia_Governamental -1116.0325    463.118     -2.410      0.016   -2023.853    -208.212\n",
       "==============================================================================\n",
       "Omnibus:                     7274.691   Durbin-Watson:                   2.027\n",
       "Prob(Omnibus):                  0.000   Jarque-Bera (JB):           368229.604\n",
       "Skew:                           3.702   Prob(JB):                         0.00\n",
       "Kurtosis:                      33.992   Cond. No.                     2.65e+03\n",
       "==============================================================================\n",
       "\n",
       "Notes:\n",
       "[1] Standard Errors assume that the covariance matrix of the errors is correctly specified.\n",
       "[2] The condition number is large, 2.65e+03. This might indicate that there are\n",
       "strong multicollinearity or other numerical problems.\n",
       "\"\"\""
      ]
     },
     "execution_count": 22,
     "metadata": {},
     "output_type": "execute_result"
    }
   ],
   "source": [
    "# Calculando a Regressão Linear(função polinomial do primeiro grau)\n",
    "\n",
    "reg_linear = smf.ols('''\n",
    "\n",
    "                        renda ~ \n",
    "                        sexo + \n",
    "                        posse_de_veiculo + \n",
    "                        posse_de_imovel + \n",
    "                        qtd_filhos +\n",
    "                        idade +\n",
    "                        tempo_emprego + \n",
    "                        qt_pessoas_residencia + \n",
    "                        mau + \n",
    "                        tipo_renda_Bolsista + \n",
    "                        tipo_renda_Empresário + \n",
    "                        tipo_renda_Pensionista + \n",
    "                        tipo_renda_Servidor_público +\n",
    "                        educacao_Pós_graduação +\n",
    "                        educacao_Secundário +\n",
    "                        educacao_Superior_completo +\n",
    "                        educacao_Superior_incompleto +\n",
    "                        estado_civil_Separado +\n",
    "                        estado_civil_Solteiro +\n",
    "                        estado_civil_União +\n",
    "                        estado_civil_Viúvo +\n",
    "                        tipo_residencia_Casa +\n",
    "                        tipo_residencia_Com_os_pais +\n",
    "                        tipo_residencia_Comunitário +\n",
    "                        tipo_residencia_Estúdio +\n",
    "                        tipo_residencia_Governamental\n",
    "                        \n",
    "                    '''\n",
    "                     , data = prev_renda_dammy).fit()\n",
    "\n",
    "reg_linear.summary()\n"
   ]
  },
  {
   "cell_type": "code",
   "execution_count": 23,
   "metadata": {},
   "outputs": [
    {
     "data": {
      "text/html": [
       "<table class=\"simpletable\">\n",
       "<caption>OLS Regression Results</caption>\n",
       "<tr>\n",
       "  <th>Dep. Variable:</th>          <td>renda</td>      <th>  R-squared:         </th> <td>   0.223</td> \n",
       "</tr>\n",
       "<tr>\n",
       "  <th>Model:</th>                   <td>OLS</td>       <th>  Adj. R-squared:    </th> <td>   0.223</td> \n",
       "</tr>\n",
       "<tr>\n",
       "  <th>Method:</th>             <td>Least Squares</td>  <th>  F-statistic:       </th> <td>   357.4</td> \n",
       "</tr>\n",
       "<tr>\n",
       "  <th>Date:</th>             <td>Mon, 24 Jan 2022</td> <th>  Prob (F-statistic):</th>  <td>  0.00</td>  \n",
       "</tr>\n",
       "<tr>\n",
       "  <th>Time:</th>                 <td>08:24:24</td>     <th>  Log-Likelihood:    </th> <td> -85230.</td> \n",
       "</tr>\n",
       "<tr>\n",
       "  <th>No. Observations:</th>      <td>  8704</td>      <th>  AIC:               </th> <td>1.705e+05</td>\n",
       "</tr>\n",
       "<tr>\n",
       "  <th>Df Residuals:</th>          <td>  8696</td>      <th>  BIC:               </th> <td>1.705e+05</td>\n",
       "</tr>\n",
       "<tr>\n",
       "  <th>Df Model:</th>              <td>     7</td>      <th>                     </th>     <td> </td>    \n",
       "</tr>\n",
       "<tr>\n",
       "  <th>Covariance Type:</th>      <td>nonrobust</td>    <th>                     </th>     <td> </td>    \n",
       "</tr>\n",
       "</table>\n",
       "<table class=\"simpletable\">\n",
       "<tr>\n",
       "                <td></td>                   <th>coef</th>     <th>std err</th>      <th>t</th>      <th>P>|t|</th>  <th>[0.025</th>    <th>0.975]</th>  \n",
       "</tr>\n",
       "<tr>\n",
       "  <th>Intercept</th>                     <td> 2387.7925</td> <td>  219.441</td> <td>   10.881</td> <td> 0.000</td> <td> 1957.637</td> <td> 2817.948</td>\n",
       "</tr>\n",
       "<tr>\n",
       "  <th>posse_de_imovel[T.True]</th>       <td>  297.7742</td> <td>   98.886</td> <td>    3.011</td> <td> 0.003</td> <td>  103.934</td> <td>  491.614</td>\n",
       "</tr>\n",
       "<tr>\n",
       "  <th>sexo</th>                          <td>-2369.1258</td> <td>   98.656</td> <td>  -24.014</td> <td> 0.000</td> <td>-2562.515</td> <td>-2175.737</td>\n",
       "</tr>\n",
       "<tr>\n",
       "  <th>idade</th>                         <td>   25.9590</td> <td>    5.297</td> <td>    4.901</td> <td> 0.000</td> <td>   15.576</td> <td>   36.342</td>\n",
       "</tr>\n",
       "<tr>\n",
       "  <th>tempo_emprego</th>                 <td>  309.8711</td> <td>    7.398</td> <td>   41.883</td> <td> 0.000</td> <td>  295.368</td> <td>  324.374</td>\n",
       "</tr>\n",
       "<tr>\n",
       "  <th>tipo_renda_Empresário</th>         <td> 1065.2291</td> <td>  107.659</td> <td>    9.894</td> <td> 0.000</td> <td>  854.192</td> <td> 1276.266</td>\n",
       "</tr>\n",
       "<tr>\n",
       "  <th>tipo_renda_Servidor_público</th>   <td>  568.3589</td> <td>  157.527</td> <td>    3.608</td> <td> 0.000</td> <td>  259.569</td> <td>  877.149</td>\n",
       "</tr>\n",
       "<tr>\n",
       "  <th>tipo_residencia_Governamental</th> <td> -637.8511</td> <td>  265.669</td> <td>   -2.401</td> <td> 0.016</td> <td>-1158.625</td> <td> -117.077</td>\n",
       "</tr>\n",
       "</table>\n",
       "<table class=\"simpletable\">\n",
       "<tr>\n",
       "  <th>Omnibus:</th>       <td>7262.745</td> <th>  Durbin-Watson:     </th>  <td>   2.027</td> \n",
       "</tr>\n",
       "<tr>\n",
       "  <th>Prob(Omnibus):</th>  <td> 0.000</td>  <th>  Jarque-Bera (JB):  </th> <td>363074.895</td>\n",
       "</tr>\n",
       "<tr>\n",
       "  <th>Skew:</th>           <td> 3.697</td>  <th>  Prob(JB):          </th>  <td>    0.00</td> \n",
       "</tr>\n",
       "<tr>\n",
       "  <th>Kurtosis:</th>       <td>33.764</td>  <th>  Cond. No.          </th>  <td>    245.</td> \n",
       "</tr>\n",
       "</table><br/><br/>Notes:<br/>[1] Standard Errors assume that the covariance matrix of the errors is correctly specified."
      ],
      "text/plain": [
       "<class 'statsmodels.iolib.summary.Summary'>\n",
       "\"\"\"\n",
       "                            OLS Regression Results                            \n",
       "==============================================================================\n",
       "Dep. Variable:                  renda   R-squared:                       0.223\n",
       "Model:                            OLS   Adj. R-squared:                  0.223\n",
       "Method:                 Least Squares   F-statistic:                     357.4\n",
       "Date:                Mon, 24 Jan 2022   Prob (F-statistic):               0.00\n",
       "Time:                        08:24:24   Log-Likelihood:                -85230.\n",
       "No. Observations:                8704   AIC:                         1.705e+05\n",
       "Df Residuals:                    8696   BIC:                         1.705e+05\n",
       "Df Model:                           7                                         \n",
       "Covariance Type:            nonrobust                                         \n",
       "=================================================================================================\n",
       "                                    coef    std err          t      P>|t|      [0.025      0.975]\n",
       "-------------------------------------------------------------------------------------------------\n",
       "Intercept                      2387.7925    219.441     10.881      0.000    1957.637    2817.948\n",
       "posse_de_imovel[T.True]         297.7742     98.886      3.011      0.003     103.934     491.614\n",
       "sexo                          -2369.1258     98.656    -24.014      0.000   -2562.515   -2175.737\n",
       "idade                            25.9590      5.297      4.901      0.000      15.576      36.342\n",
       "tempo_emprego                   309.8711      7.398     41.883      0.000     295.368     324.374\n",
       "tipo_renda_Empresário          1065.2291    107.659      9.894      0.000     854.192    1276.266\n",
       "tipo_renda_Servidor_público     568.3589    157.527      3.608      0.000     259.569     877.149\n",
       "tipo_residencia_Governamental  -637.8511    265.669     -2.401      0.016   -1158.625    -117.077\n",
       "==============================================================================\n",
       "Omnibus:                     7262.745   Durbin-Watson:                   2.027\n",
       "Prob(Omnibus):                  0.000   Jarque-Bera (JB):           363074.895\n",
       "Skew:                           3.697   Prob(JB):                         0.00\n",
       "Kurtosis:                      33.764   Cond. No.                         245.\n",
       "==============================================================================\n",
       "\n",
       "Notes:\n",
       "[1] Standard Errors assume that the covariance matrix of the errors is correctly specified.\n",
       "\"\"\""
      ]
     },
     "execution_count": 23,
     "metadata": {},
     "output_type": "execute_result"
    }
   ],
   "source": [
    "# item 4\n",
    "\n",
    "# Retirando as variaveis estatisticamente não significativa(s)\n",
    "\n",
    "reg_linear = smf.ols('''\n",
    "\n",
    "                        renda ~\n",
    "                        sexo +\n",
    "                        posse_de_imovel + \n",
    "                        idade +\n",
    "                        tempo_emprego + \n",
    "                        tipo_renda_Empresário + \n",
    "                        tipo_renda_Servidor_público +\n",
    "                        tipo_residencia_Governamental\n",
    "                        \n",
    "                    '''\n",
    "                     , data = prev_renda_dammy).fit()\n",
    "\n",
    "reg_linear.summary()\n"
   ]
  },
  {
   "cell_type": "code",
   "execution_count": 24,
   "metadata": {},
   "outputs": [
    {
     "data": {
      "text/html": [
       "<table class=\"simpletable\">\n",
       "<caption>OLS Regression Results</caption>\n",
       "<tr>\n",
       "  <th>Dep. Variable:</th>      <td>np.log(renda)</td>  <th>  R-squared:         </th> <td>   0.241</td> \n",
       "</tr>\n",
       "<tr>\n",
       "  <th>Model:</th>                   <td>OLS</td>       <th>  Adj. R-squared:    </th> <td>   0.240</td> \n",
       "</tr>\n",
       "<tr>\n",
       "  <th>Method:</th>             <td>Least Squares</td>  <th>  F-statistic:       </th> <td>   394.6</td> \n",
       "</tr>\n",
       "<tr>\n",
       "  <th>Date:</th>             <td>Mon, 24 Jan 2022</td> <th>  Prob (F-statistic):</th>  <td>  0.00</td>  \n",
       "</tr>\n",
       "<tr>\n",
       "  <th>Time:</th>                 <td>08:24:30</td>     <th>  Log-Likelihood:    </th> <td> -9261.5</td> \n",
       "</tr>\n",
       "<tr>\n",
       "  <th>No. Observations:</th>      <td>  8704</td>      <th>  AIC:               </th> <td>1.854e+04</td>\n",
       "</tr>\n",
       "<tr>\n",
       "  <th>Df Residuals:</th>          <td>  8696</td>      <th>  BIC:               </th> <td>1.860e+04</td>\n",
       "</tr>\n",
       "<tr>\n",
       "  <th>Df Model:</th>              <td>     7</td>      <th>                     </th>     <td> </td>    \n",
       "</tr>\n",
       "<tr>\n",
       "  <th>Covariance Type:</th>      <td>nonrobust</td>    <th>                     </th>     <td> </td>    \n",
       "</tr>\n",
       "</table>\n",
       "<table class=\"simpletable\">\n",
       "<tr>\n",
       "                <td></td>                   <th>coef</th>     <th>std err</th>      <th>t</th>      <th>P>|t|</th>  <th>[0.025</th>    <th>0.975]</th>  \n",
       "</tr>\n",
       "<tr>\n",
       "  <th>Intercept</th>                     <td>    7.7660</td> <td>    0.036</td> <td>  218.480</td> <td> 0.000</td> <td>    7.696</td> <td>    7.836</td>\n",
       "</tr>\n",
       "<tr>\n",
       "  <th>posse_de_imovel[T.True]</th>       <td>    0.0867</td> <td>    0.016</td> <td>    5.415</td> <td> 0.000</td> <td>    0.055</td> <td>    0.118</td>\n",
       "</tr>\n",
       "<tr>\n",
       "  <th>sexo</th>                          <td>   -0.4893</td> <td>    0.016</td> <td>  -30.617</td> <td> 0.000</td> <td>   -0.521</td> <td>   -0.458</td>\n",
       "</tr>\n",
       "<tr>\n",
       "  <th>idade</th>                         <td>    0.0050</td> <td>    0.001</td> <td>    5.778</td> <td> 0.000</td> <td>    0.003</td> <td>    0.007</td>\n",
       "</tr>\n",
       "<tr>\n",
       "  <th>tempo_emprego</th>                 <td>    0.0491</td> <td>    0.001</td> <td>   40.981</td> <td> 0.000</td> <td>    0.047</td> <td>    0.051</td>\n",
       "</tr>\n",
       "<tr>\n",
       "  <th>tipo_renda_Empresário</th>         <td>    0.1927</td> <td>    0.017</td> <td>   11.048</td> <td> 0.000</td> <td>    0.158</td> <td>    0.227</td>\n",
       "</tr>\n",
       "<tr>\n",
       "  <th>tipo_renda_Servidor_público</th>   <td>    0.1172</td> <td>    0.026</td> <td>    4.592</td> <td> 0.000</td> <td>    0.067</td> <td>    0.167</td>\n",
       "</tr>\n",
       "<tr>\n",
       "  <th>tipo_residencia_Governamental</th> <td>   -0.0953</td> <td>    0.043</td> <td>   -2.214</td> <td> 0.027</td> <td>   -0.180</td> <td>   -0.011</td>\n",
       "</tr>\n",
       "</table>\n",
       "<table class=\"simpletable\">\n",
       "<tr>\n",
       "  <th>Omnibus:</th>       <td> 1.397</td> <th>  Durbin-Watson:     </th> <td>   2.028</td>\n",
       "</tr>\n",
       "<tr>\n",
       "  <th>Prob(Omnibus):</th> <td> 0.497</td> <th>  Jarque-Bera (JB):  </th> <td>   1.363</td>\n",
       "</tr>\n",
       "<tr>\n",
       "  <th>Skew:</th>          <td>-0.017</td> <th>  Prob(JB):          </th> <td>   0.506</td>\n",
       "</tr>\n",
       "<tr>\n",
       "  <th>Kurtosis:</th>      <td> 3.051</td> <th>  Cond. No.          </th> <td>    245.</td>\n",
       "</tr>\n",
       "</table><br/><br/>Notes:<br/>[1] Standard Errors assume that the covariance matrix of the errors is correctly specified."
      ],
      "text/plain": [
       "<class 'statsmodels.iolib.summary.Summary'>\n",
       "\"\"\"\n",
       "                            OLS Regression Results                            \n",
       "==============================================================================\n",
       "Dep. Variable:          np.log(renda)   R-squared:                       0.241\n",
       "Model:                            OLS   Adj. R-squared:                  0.240\n",
       "Method:                 Least Squares   F-statistic:                     394.6\n",
       "Date:                Mon, 24 Jan 2022   Prob (F-statistic):               0.00\n",
       "Time:                        08:24:30   Log-Likelihood:                -9261.5\n",
       "No. Observations:                8704   AIC:                         1.854e+04\n",
       "Df Residuals:                    8696   BIC:                         1.860e+04\n",
       "Df Model:                           7                                         \n",
       "Covariance Type:            nonrobust                                         \n",
       "=================================================================================================\n",
       "                                    coef    std err          t      P>|t|      [0.025      0.975]\n",
       "-------------------------------------------------------------------------------------------------\n",
       "Intercept                         7.7660      0.036    218.480      0.000       7.696       7.836\n",
       "posse_de_imovel[T.True]           0.0867      0.016      5.415      0.000       0.055       0.118\n",
       "sexo                             -0.4893      0.016    -30.617      0.000      -0.521      -0.458\n",
       "idade                             0.0050      0.001      5.778      0.000       0.003       0.007\n",
       "tempo_emprego                     0.0491      0.001     40.981      0.000       0.047       0.051\n",
       "tipo_renda_Empresário             0.1927      0.017     11.048      0.000       0.158       0.227\n",
       "tipo_renda_Servidor_público       0.1172      0.026      4.592      0.000       0.067       0.167\n",
       "tipo_residencia_Governamental    -0.0953      0.043     -2.214      0.027      -0.180      -0.011\n",
       "==============================================================================\n",
       "Omnibus:                        1.397   Durbin-Watson:                   2.028\n",
       "Prob(Omnibus):                  0.497   Jarque-Bera (JB):                1.363\n",
       "Skew:                          -0.017   Prob(JB):                        0.506\n",
       "Kurtosis:                       3.051   Cond. No.                         245.\n",
       "==============================================================================\n",
       "\n",
       "Notes:\n",
       "[1] Standard Errors assume that the covariance matrix of the errors is correctly specified.\n",
       "\"\"\""
      ]
     },
     "execution_count": 24,
     "metadata": {},
     "output_type": "execute_result"
    }
   ],
   "source": [
    "# R-squared = 0.241 --> regressão logaritmica (variavel renda)\n",
    "\n",
    "# foi o melhor resultado que encontrei\n",
    "\n",
    "reg_log = smf.ols('''\n",
    "\n",
    "                        np.log(renda) ~\n",
    "                        sexo +\n",
    "                        posse_de_imovel + \n",
    "                        idade +\n",
    "                        tempo_emprego + \n",
    "                        tipo_renda_Empresário + \n",
    "                        tipo_renda_Servidor_público +\n",
    "                        tipo_residencia_Governamental \n",
    "                        \n",
    "                    '''\n",
    "                     , data = prev_renda_dammy).fit()\n",
    "\n",
    "prev_renda_dammy['res_log'] = reg_log.resid\n",
    "\n",
    "reg_log.summary() \n"
   ]
  },
  {
   "cell_type": "code",
   "execution_count": 25,
   "metadata": {},
   "outputs": [],
   "source": [
    "# item 5\n",
    "\n",
    "def analise_residuo(var):\n",
    "\n",
    "    sns.boxplot(x = var, y = 'res_log', data = prev_renda_dammy)\n",
    "\n",
    "    plt.axhline(y=0, color='r', linestyle='--')\n"
   ]
  },
  {
   "cell_type": "code",
   "execution_count": 26,
   "metadata": {},
   "outputs": [
    {
     "data": {
      "image/png": "[encoded data removed]",
      "text/plain": [
       "<Figure size 432x288 with 1 Axes>"
      ]
     },
     "metadata": {
      "needs_background": "light"
     },
     "output_type": "display_data"
    }
   ],
   "source": [
    "\n",
    "analise_residuo('posse_de_veiculo')\n",
    "\n"
   ]
  },
  {
   "cell_type": "code",
   "execution_count": 27,
   "metadata": {},
   "outputs": [
    {
     "data": {
      "image/png": "[encoded data removed]",
      "text/plain": [
       "<Figure size 432x288 with 1 Axes>"
      ]
     },
     "metadata": {
      "needs_background": "light"
     },
     "output_type": "display_data"
    }
   ],
   "source": [
    "\n",
    "analise_residuo('qtd_filhos')\n"
   ]
  },
  {
   "cell_type": "code",
   "execution_count": 28,
   "metadata": {},
   "outputs": [
    {
     "data": {
      "image/png": "[encoded data removed]",
      "text/plain": [
       "<Figure size 432x288 with 1 Axes>"
      ]
     },
     "metadata": {
      "needs_background": "light"
     },
     "output_type": "display_data"
    }
   ],
   "source": [
    "\n",
    "analise_residuo('qt_pessoas_residencia')\n"
   ]
  },
  {
   "cell_type": "code",
   "execution_count": 29,
   "metadata": {},
   "outputs": [
    {
     "data": {
      "image/png": "[encoded data removed]",
      "text/plain": [
       "<Figure size 432x288 with 1 Axes>"
      ]
     },
     "metadata": {
      "needs_background": "light"
     },
     "output_type": "display_data"
    }
   ],
   "source": [
    "\n",
    "analise_residuo('mau')\n"
   ]
  },
  {
   "cell_type": "code",
   "execution_count": 30,
   "metadata": {},
   "outputs": [
    {
     "data": {
      "image/png": "[encoded data removed]",
      "text/plain": [
       "<Figure size 432x288 with 1 Axes>"
      ]
     },
     "metadata": {
      "needs_background": "light"
     },
     "output_type": "display_data"
    }
   ],
   "source": [
    "\n",
    "analise_residuo('tipo_renda_Bolsista')\n"
   ]
  },
  {
   "cell_type": "code",
   "execution_count": 31,
   "metadata": {},
   "outputs": [
    {
     "data": {
      "image/png": "[encoded data removed]",
      "text/plain": [
       "<Figure size 432x288 with 1 Axes>"
      ]
     },
     "metadata": {
      "needs_background": "light"
     },
     "output_type": "display_data"
    }
   ],
   "source": [
    "\n",
    "analise_residuo('tipo_renda_Pensionista')\n"
   ]
  },
  {
   "cell_type": "code",
   "execution_count": 32,
   "metadata": {},
   "outputs": [
    {
     "data": {
      "image/png": "[encoded data removed]",
      "text/plain": [
       "<Figure size 432x288 with 1 Axes>"
      ]
     },
     "metadata": {
      "needs_background": "light"
     },
     "output_type": "display_data"
    }
   ],
   "source": [
    "\n",
    "analise_residuo('educacao_Pós_graduação')\n"
   ]
  },
  {
   "cell_type": "code",
   "execution_count": 33,
   "metadata": {},
   "outputs": [
    {
     "data": {
      "image/png": "[encoded data removed]",
      "text/plain": [
       "<Figure size 432x288 with 1 Axes>"
      ]
     },
     "metadata": {
      "needs_background": "light"
     },
     "output_type": "display_data"
    }
   ],
   "source": [
    "\n",
    "analise_residuo('educacao_Secundário')  \n"
   ]
  },
  {
   "cell_type": "code",
   "execution_count": 34,
   "metadata": {},
   "outputs": [
    {
     "data": {
      "image/png": "[encoded data removed]",
      "text/plain": [
       "<Figure size 432x288 with 1 Axes>"
      ]
     },
     "metadata": {
      "needs_background": "light"
     },
     "output_type": "display_data"
    }
   ],
   "source": [
    "\n",
    "analise_residuo('educacao_Superior_completo')\n"
   ]
  },
  {
   "cell_type": "code",
   "execution_count": 35,
   "metadata": {},
   "outputs": [
    {
     "data": {
      "image/png": "[encoded data removed]",
      "text/plain": [
       "<Figure size 432x288 with 1 Axes>"
      ]
     },
     "metadata": {
      "needs_background": "light"
     },
     "output_type": "display_data"
    }
   ],
   "source": [
    "\n",
    "analise_residuo('educacao_Superior_incompleto')\n"
   ]
  },
  {
   "cell_type": "code",
   "execution_count": 36,
   "metadata": {},
   "outputs": [
    {
     "data": {
      "image/png": "[encoded data removed]",
      "text/plain": [
       "<Figure size 432x288 with 1 Axes>"
      ]
     },
     "metadata": {
      "needs_background": "light"
     },
     "output_type": "display_data"
    }
   ],
   "source": [
    "\n",
    "analise_residuo('estado_civil_Separado')\n"
   ]
  },
  {
   "cell_type": "code",
   "execution_count": 37,
   "metadata": {},
   "outputs": [
    {
     "data": {
      "image/png": "[encoded data removed]",
      "text/plain": [
       "<Figure size 432x288 with 1 Axes>"
      ]
     },
     "metadata": {
      "needs_background": "light"
     },
     "output_type": "display_data"
    }
   ],
   "source": [
    "\n",
    "analise_residuo('estado_civil_Solteiro')\n"
   ]
  },
  {
   "cell_type": "code",
   "execution_count": 38,
   "metadata": {},
   "outputs": [
    {
     "data": {
      "image/png": "[encoded data removed]",
      "text/plain": [
       "<Figure size 432x288 with 1 Axes>"
      ]
     },
     "metadata": {
      "needs_background": "light"
     },
     "output_type": "display_data"
    }
   ],
   "source": [
    "\n",
    "analise_residuo('estado_civil_União')\n"
   ]
  },
  {
   "cell_type": "code",
   "execution_count": 39,
   "metadata": {},
   "outputs": [
    {
     "data": {
      "image/png": "[encoded data removed]",
      "text/plain": [
       "<Figure size 432x288 with 1 Axes>"
      ]
     },
     "metadata": {
      "needs_background": "light"
     },
     "output_type": "display_data"
    }
   ],
   "source": [
    "\n",
    "analise_residuo('estado_civil_Viúvo')\n"
   ]
  },
  {
   "cell_type": "code",
   "execution_count": 40,
   "metadata": {},
   "outputs": [
    {
     "data": {
      "image/png": "[encoded data removed]",
      "text/plain": [
       "<Figure size 432x288 with 1 Axes>"
      ]
     },
     "metadata": {
      "needs_background": "light"
     },
     "output_type": "display_data"
    }
   ],
   "source": [
    "\n",
    "analise_residuo('tipo_residencia_Casa')\n"
   ]
  },
  {
   "cell_type": "code",
   "execution_count": 41,
   "metadata": {},
   "outputs": [
    {
     "data": {
      "image/png": "[encoded data removed]",
      "text/plain": [
       "<Figure size 432x288 with 1 Axes>"
      ]
     },
     "metadata": {
      "needs_background": "light"
     },
     "output_type": "display_data"
    }
   ],
   "source": [
    "\n",
    "analise_residuo('tipo_residencia_Com_os_pais')\n"
   ]
  },
  {
   "cell_type": "code",
   "execution_count": 42,
   "metadata": {},
   "outputs": [
    {
     "data": {
      "image/png": "[encoded data removed]",
      "text/plain": [
       "<Figure size 432x288 with 1 Axes>"
      ]
     },
     "metadata": {
      "needs_background": "light"
     },
     "output_type": "display_data"
    }
   ],
   "source": [
    "\n",
    "analise_residuo('tipo_residencia_Comunitário')\n"
   ]
  },
  {
   "cell_type": "code",
   "execution_count": 43,
   "metadata": {},
   "outputs": [
    {
     "data": {
      "image/png": "[encoded data removed]",
      "text/plain": [
       "<Figure size 432x288 with 1 Axes>"
      ]
     },
     "metadata": {
      "needs_background": "light"
     },
     "output_type": "display_data"
    }
   ],
   "source": [
    "\n",
    "analise_residuo('tipo_residencia_Estúdio')\n"
   ]
  },
  {
   "cell_type": "code",
   "execution_count": null,
   "metadata": {},
   "outputs": [],
   "source": []
  }
 ],
 "metadata": {
  "kernelspec": {
   "display_name": "Python 3 (ipykernel)",
   "language": "python",
   "name": "python3"
  },
  "language_info": {
   "codemirror_mode": {
    "name": "ipython",
    "version": 3
   },
   "file_extension": ".py",
   "mimetype": "text/x-python",
   "name": "python",
   "nbconvert_exporter": "python",
   "pygments_lexer": "ipython3",
   "version": "3.9.7"
  }
 },
 "nbformat": 4,
 "nbformat_minor": 4
}
